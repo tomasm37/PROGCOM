{
  "cells": [
    {
      "cell_type": "markdown",
      "metadata": {
        "id": "LMTngmL8WTCH"
      },
      "source": [
        "# Listado de Ejercicios a realizar"
      ]
    },
    {
      "cell_type": "markdown",
      "metadata": {
        "id": "o1F8rAPeWTCI"
      },
      "source": [
        "## 1. Sin usar el computador, evalúe las siguientes expresiones, y para cada una de ellas indique el resultado y su tipo (si la expresión es válida) o qué error ocurre:\n",
        "\n",
        "### Ejemplo\n",
        "- 2 + 3      # Respuesta: tipo int, valor 5\n",
        "- 4 / 0      # Respuesta: error de división por cero\n",
        "\n",
        "### Ejercicio\n",
        "\n",
        "- 5 + 3 * 4: 17\n",
        "- '5' + '3' * 2\n",
        "- 2 ** 11 == 1000 or 2 ** 9 == 100\n",
        "- int(\"cincuenta\")\n",
        "- 16/16 + 384/24\n",
        "- 600 + 18%\n",
        "- 0 < (4096 % 10) < 6\n",
        "- 'Max' + 'Min'\n",
        "- ABC() * DEF()\n",
        "- float(-int(\"7\")+int('90))\n",
        "- abs(len('seis') - len('tres'))\n",
        "- bool(1210) or bool(-3465)\n",
        "- float(str(int('8' * 3) / 3)[3])"
      ]
    },
    {
      "cell_type": "markdown",
      "metadata": {
        "id": "3ypbOL-AWTCI"
      },
      "source": [
        "#Respuesta\n"
      ]
    },
    {
      "cell_type": "markdown",
      "metadata": {
        "id": "hTD-ALkgWTCI"
      },
      "source": [
        "# 2. Imprima su nombre y fecha\n",
        "- Imprime: Jorge Alvarez - 20-04-2020"
      ]
    },
    {
      "cell_type": "code",
      "execution_count": null,
      "metadata": {
        "id": "Tgol0HqEWTCJ"
      },
      "outputs": [],
      "source": [
        "# Respuesta:\n",
        "print(\"jhonnatan - 24/06/2004\")"
      ]
    },
    {
      "cell_type": "markdown",
      "metadata": {
        "id": "ayG30b-MWTCJ"
      },
      "source": [
        "# 3. Solicite un nombre y que el programa salude\n",
        "### Ejemplo:\n",
        "- ingreso: 'Andres'\n",
        "- imprime: 'Hola Andres'"
      ]
    },
    {
      "cell_type": "code",
      "execution_count": null,
      "metadata": {
        "id": "wiapNAn4WTCJ"
      },
      "outputs": [],
      "source": [
        "x=input(\"Hola, ¿Cómo te llamas? \")\n",
        "print(f\"Hola {x} ¿Que requieres hoy\")"
      ]
    },
    {
      "cell_type": "markdown",
      "metadata": {
        "id": "CYn33iniWTCK"
      },
      "source": [
        "# 4. Solicite el radio (un numero) de un círculo e imprima como salida su diámetro, perímetro y su área\n",
        "### Ejemplo\n",
        "- ingreso: 3\n",
        "- imprime - Diametro: 6\n",
        "- imprime - Perimetro: 18.84\n",
        "- imprime - Area: 28.27"
      ]
    },
    {
      "cell_type": "code",
      "execution_count": null,
      "metadata": {
        "id": "QR3TreJqWTCK",
        "colab": {
          "base_uri": "https://localhost:8080/"
        },
        "outputId": "b5cd4f63-ac87-4e08-d3cf-0b0d9eff96ce"
      },
      "outputs": [
        {
          "output_type": "stream",
          "name": "stdout",
          "text": [
            "Ingresa el radio del circulo 22\n",
            "Diametro: 44.0\n",
            "Perimetro: 18.849539999999998\n",
            "Area: 1520.52956\n"
          ]
        }
      ],
      "source": [
        "R=float(input(\"Ingresa el radio del circulo \"))\n",
        "Di= R*2\n",
        "Pe= 3.14159*d\n",
        "Ar=3.14159*R**2\n",
        "print(f\"Diametro: {Di}\")\n",
        "print(f\"Perimetro: {Pe}\")\n",
        "print(f\"Area: {Ar}\")"
      ]
    },
    {
      "cell_type": "markdown",
      "metadata": {
        "id": "CnJUFicqWTCK"
      },
      "source": [
        "# 5. Solicite 6 notas y calcule el promedio de ellas\n",
        "### Ejemplo\n",
        "- ingreso: 1 2 3 4 5 6\n",
        "- imprime: 3.5"
      ]
    },
    {
      "cell_type": "code",
      "execution_count": null,
      "metadata": {
        "id": "w4INhZgOWTCK",
        "colab": {
          "base_uri": "https://localhost:8080/"
        },
        "outputId": "126dc985-a413-4339-f538-ac18c8c92b81"
      },
      "outputs": [
        {
          "output_type": "stream",
          "name": "stdout",
          "text": [
            "Ingresa la primera nota del estudiante 2\n",
            "Ingresa la segunda nota del estudiante 3.3\n",
            "Ingresa la tercera nota del estudiante 4.2\n",
            "Ingresa la cuarta nota del estudiante 4.5\n",
            "Ingresa la quinta nota del estudiante 1\n",
            "Ingresa la sexta 6 nota del estudiante 3\n",
            "El promedio de las notas es: 3.0\n"
          ]
        }
      ],
      "source": [
        "# Respuesta:\n",
        "n1=float(input(\"Ingresa la primera nota del estudiante \"))\n",
        "n2=float(input(\"Ingresa la segunda nota del estudiante \"))\n",
        "n3=float(input(\"Ingresa la tercera nota del estudiante \"))\n",
        "n4=float(input(\"Ingresa la cuarta nota del estudiante \"))\n",
        "n5=float(input(\"Ingresa la quinta nota del estudiante \"))\n",
        "n6=float(input(\"Ingresa la sexta 6 nota del estudiante \"))\n",
        "\n",
        "totaln=n1+n2+n3+n4+n5+n6\n",
        "prom=totaln/6\n",
        "print(f\"El promedio de las notas es: {prom}\")"
      ]
    },
    {
      "cell_type": "markdown",
      "metadata": {
        "id": "9uGS-7dkWTCK"
      },
      "source": [
        "# 6. Solicite un valor e imprima que tipo de dato es\n",
        "### Ejemplo\n",
        "- ingreso: 'A'\n",
        "- imprime: str\n",
        "- ingreso: 1\n",
        "- imprime: int"
      ]
    },
    {
      "cell_type": "code",
      "execution_count": null,
      "metadata": {
        "id": "qW2J1DjwWTCK",
        "colab": {
          "base_uri": "https://localhost:8080/"
        },
        "outputId": "5a6b7350-0917-4596-b4d6-5159074dec38"
      },
      "outputs": [
        {
          "output_type": "stream",
          "name": "stdout",
          "text": [
            "Ingresa el valor que deseas 6.0\n",
            "El valor 6 es de tipo <class 'int'>\n"
          ]
        }
      ],
      "source": [
        "# Respuesta:\n",
        "V=int(float(input(\"Ingrese el valor deseado \")))\n",
        "print(f\"El valor {V} es de tipo {type(V)}\")"
      ]
    },
    {
      "cell_type": "markdown",
      "metadata": {
        "id": "DwYtzwPKWTCK"
      },
      "source": [
        "# 7. Escriba en código la siguiente ecuación\n",
        "$$ \\left(\\frac{5+3}{3-2}\\right)^2$$"
      ]
    },
    {
      "cell_type": "code",
      "source": [
        "# Respuesta\n",
        "T=(5+3)/(3-2)\n",
        "T=T**2\n",
        "print(T)\n"
      ],
      "metadata": {
        "id": "HNgU-6C1Yguq",
        "colab": {
          "base_uri": "https://localhost:8080/"
        },
        "outputId": "d93ce28e-1967-4b00-c053-6bdfaafc0827"
      },
      "execution_count": null,
      "outputs": [
        {
          "output_type": "stream",
          "name": "stdout",
          "text": [
            "64.0\n"
          ]
        }
      ]
    },
    {
      "cell_type": "markdown",
      "metadata": {
        "id": "9U9cBSCtWTCL"
      },
      "source": [
        "# 8. Solicite número de horas trabajadas y coste por horas e imprima el valor\n",
        "### Ejemplo:\n",
        "- Ingreso: 4 (horas)\n",
        "- ingreso: 80.000 (precio x hora)\n",
        "- imprime: 320.000"
      ]
    },
    {
      "cell_type": "code",
      "execution_count": null,
      "metadata": {
        "id": "x-dT-cLeWTCL"
      },
      "outputs": [],
      "source": [
        "# Respuesta\n"
      ]
    },
    {
      "cell_type": "markdown",
      "metadata": {
        "id": "zyktCgr5WTCL"
      },
      "source": [
        "# 9. Solicite la temperatura en grados Celsius e imprima en grados Kelvin y Fahrenheit\n",
        "### Ejemplo:\n",
        "- ingreso: 38 (°C)\n",
        "- imprime: 311.15 °K\n",
        "- imprime: 100.4 °F"
      ]
    },
    {
      "cell_type": "code",
      "execution_count": null,
      "metadata": {
        "id": "-ydgy_YwWTCL"
      },
      "outputs": [],
      "source": [
        "# Respuesta\n"
      ]
    },
    {
      "cell_type": "markdown",
      "metadata": {
        "id": "uos8PvG9WTCL"
      },
      "source": [
        "# 10. Solicite 2 numeros e imprima si el segundo es mayor  \n",
        "### Ejemplo:\n",
        "- ingreso: 2\n",
        "- ingreso: 3\n",
        "- impmrime: True"
      ]
    },
    {
      "cell_type": "code",
      "execution_count": null,
      "metadata": {
        "id": "cVxmGhPVWTCL"
      },
      "outputs": [],
      "source": [
        "# Respuesta\n"
      ]
    },
    {
      "cell_type": "markdown",
      "metadata": {
        "id": "wnBR7YdPWTCL"
      },
      "source": [
        "# 11. Solicite 2 numeros e imprima si el segundo es menor  \n",
        "### Ejemplo:\n",
        "- ingreso: 2\n",
        "- ingreso: 3\n",
        "- impmrime: False"
      ]
    },
    {
      "cell_type": "code",
      "execution_count": null,
      "metadata": {
        "id": "9T9-iqzgWTCL"
      },
      "outputs": [],
      "source": [
        "# Respuesta\n"
      ]
    },
    {
      "cell_type": "markdown",
      "metadata": {
        "id": "X3JU40SNWTCL"
      },
      "source": [
        "# 12. Solicite una distancia (metros) y la velocidad (metros/segundos) e imprima el tiempo que se demora el recorrido\n",
        "### Ejemplo:\n",
        "- ingreso: 150 (metros)\n",
        "- ingreso: 15 (metros/segundo)\n",
        "- Imprime: 10 segundos"
      ]
    },
    {
      "cell_type": "code",
      "execution_count": null,
      "metadata": {
        "id": "Q04rEmU9WTCL"
      },
      "outputs": [],
      "source": [
        "# Respuesta\n"
      ]
    },
    {
      "cell_type": "markdown",
      "metadata": {
        "id": "_8l0zJ0OWTCM"
      },
      "source": [
        "# 13. Solicite al usuario tres valores y escriba en código la siguiente ecuación\n",
        "$$ \\left(\\frac{a+b}{c}\\right) ^2 + \\left(\\frac{a-b}{c}\\right) ^ 2 $$"
      ]
    },
    {
      "cell_type": "code",
      "execution_count": null,
      "metadata": {
        "id": "35NzqYV8WTCM"
      },
      "outputs": [],
      "source": [
        "# Respuesta\n"
      ]
    },
    {
      "cell_type": "markdown",
      "metadata": {
        "id": "KpLmK4psWTCM"
      },
      "source": [
        "# 14. Investigue como se saca la raíz cuadrada de un número en Python y escriba la solución en el cuadro de abajo"
      ]
    },
    {
      "cell_type": "code",
      "execution_count": null,
      "metadata": {
        "id": "hmB61u9KWTCM"
      },
      "outputs": [],
      "source": [
        "# Respuesta\n"
      ]
    },
    {
      "cell_type": "markdown",
      "metadata": {
        "id": "uDskyR69WTCM"
      },
      "source": [
        "# 15.  Con lo anterior solicite 2 numeros (Cateto a y Cateto b) e imprima la hipotenusa.\n",
        "### Ejemplo:\n",
        "- ingreso: 3 (Cateto a)\n",
        "- ingreso: 4 (Cateto b)\n",
        "- imprime: Hipotenusa = 5"
      ]
    },
    {
      "cell_type": "code",
      "execution_count": null,
      "metadata": {
        "id": "TmahDtWwWTCM"
      },
      "outputs": [],
      "source": [
        "# Respuesta\n"
      ]
    },
    {
      "cell_type": "code",
      "execution_count": null,
      "metadata": {
        "id": "LIUNj3nmWTCM"
      },
      "outputs": [],
      "source": []
    },
    {
      "cell_type": "code",
      "source": [
        "letra=input(\"Ingrese una letra\")\n",
        "num=None\n",
        "for conv in (int,float):\n",
        "  try:\n",
        "    num=conv(letra)\n",
        "    break\n",
        "  except ValueError:\n",
        "    pass\n",
        "if num==None: print(f\"{letra}es una variable de tipo {type(letra)}\")\n",
        "else: print(f\"{letra}es una variable de tipo {type(num)}\")\n"
      ],
      "metadata": {
        "colab": {
          "base_uri": "https://localhost:8080/"
        },
        "id": "GDOZlvAeJMj8",
        "outputId": "8700a233-e8b5-4628-f195-a063fa1633c4"
      },
      "execution_count": null,
      "outputs": [
        {
          "output_type": "stream",
          "name": "stdout",
          "text": [
            "Ingrese una letra32\n",
            "32es una variable de tipo <class 'int'>\n"
          ]
        }
      ]
    },
    {
      "cell_type": "code",
      "source": [
        "a=int(input(\"Ingrese el dividendo\"))\n",
        "b=int(input(\"Ingrese el divisor\"))\n",
        "try:\n",
        "  division=a/b\n",
        "  print(f\"{a}/{b}={division}\")\n",
        "except ZeroDivisionError:\n",
        "  print(\"Infinito\")\n",
        "\n"
      ],
      "metadata": {
        "colab": {
          "base_uri": "https://localhost:8080/"
        },
        "id": "KiZQhJIrMuEZ",
        "outputId": "16e905fb-6c57-41c6-ef8f-fd8e8de5437f"
      },
      "execution_count": null,
      "outputs": [
        {
          "name": "stdout",
          "output_type": "stream",
          "text": [
            "Ingrese un número1\n"
          ]
        }
      ]
    },
    {
      "cell_type": "code",
      "source": [
        "a=input(\"Quieres helado?\")\n",
        "a=a[0].lower()\n",
        "if a==\"s\":\n",
        "  f=input(\"Que sabor quieres?\")\n",
        "  if f==\"chocolate\": print(f\"Aqui esta su helado de {f}. Me debe 5000\")\n",
        "  elif f==\"vainilla\": print(f\"Aqui esta su helado de {f}. Me debe 4000\")\n",
        "  elif f==\"fresa\": print(f\"Aqui esta su helado de {f}. Me debe 10000\")\n",
        "  elif f==\"ron\": print(f\"Aqui esta su helado de {f}. Me debe 7000\")\n",
        "  else: print(\"Lo siento, no tenemos ese sabor\")\n",
        "else:\n",
        "  print(\"Ta bueno...a poco qu ni queria:(\")"
      ],
      "metadata": {
        "colab": {
          "base_uri": "https://localhost:8080/"
        },
        "id": "tqY9xF6yPbY_",
        "outputId": "853913c9-cb55-4bd0-9ae4-3a34e4027da7"
      },
      "execution_count": null,
      "outputs": [
        {
          "name": "stdout",
          "output_type": "stream",
          "text": [
            "Quieres helado?siu\n"
          ]
        }
      ]
    },
    {
      "cell_type": "code",
      "source": [
        "a[0]"
      ],
      "metadata": {
        "colab": {
          "base_uri": "https://localhost:8080/",
          "height": 35
        },
        "id": "S5lBo__bQCWH",
        "outputId": "cd13144e-cc68-4cac-97f6-3120b88c8b7f"
      },
      "execution_count": null,
      "outputs": [
        {
          "output_type": "execute_result",
          "data": {
            "text/plain": [
              "'s'"
            ],
            "application/vnd.google.colaboratory.intrinsic+json": {
              "type": "string"
            }
          },
          "metadata": {},
          "execution_count": 17
        }
      ]
    },
    {
      "cell_type": "code",
      "source": [
        "a=input(\"Quieres helado?\")\n",
        "a=a[0].lower()\n",
        "if a==\"s\":\n",
        "  f=input(\"Que sabor quieres?\")\n",
        "  match f:\n",
        "    case \"chocolate\": print(f\"Aqui esta su helado de {f}. Me debe 5000\")\n",
        "    case \"vainilla\": print(f\"Aqui esta su helado de {f}. Me debe 4000\")\n",
        "    case \"fresa\": print(f\"Aqui esta su helado de {f}. Me debe 10000\")\n",
        "    case \"ron\": print(f\"Aqui esta su helado de {f}. Me debe 7000\")\n",
        "    case _: print(\"Lo siento, no tenemos ese sabor\")\n",
        "else:\n",
        "  print(\"Ta bueno...a poco qu ni queria:(\")"
      ],
      "metadata": {
        "colab": {
          "base_uri": "https://localhost:8080/"
        },
        "id": "fmT3e-RMTLz4",
        "outputId": "e6f0715b-8511-4027-ac6e-e8639af90b76"
      },
      "execution_count": 1,
      "outputs": [
        {
          "output_type": "stream",
          "name": "stdout",
          "text": [
            "Quieres helado?si\n",
            "Que sabor quieres?ron\n",
            "Aqui esta su helado de ron. Me debe 7000\n"
          ]
        }
      ]
    },
    {
      "cell_type": "code",
      "source": [
        "a=input(\"Ingrese una letra \")\n",
        "a=a[0]\n",
        "if a==\"a\" or a==\"e\" or a==\"i\" or a==\"o\" or a==\"u\": print(\"Es una vocal en minúscula\")\n",
        "elif a==\"A\" or a==\"E\" or a==\"I\" or a==\"O\" or a==\"U\": print(\"Es una vocal en mayúscula\")\n",
        "else: print(\"No es una vocal\")\n",
        "\n",
        "\n",
        "\n",
        "a=input(\"Ingrese una letra \")\n",
        "a=a[0]\n",
        "match a:\n",
        "  case \"a\": print(\"Es una vocal en minúscula\")\n",
        "  case \"A\": print(\"Es una vocal en mayúscula\")\n",
        "  case \"e\": print(\"Es una vocal en minúscula\")\n",
        "  case \"E\": print(\"Es una vocal en mayúscula\")\n",
        "  case \"i\": print(\"Es una vocal en minúscula\")\n",
        "  case \"I\": print(\"Es una vocal en mayúscula\")\n",
        "  case \"o\": print(\"Es una vocal en minúscula\")\n",
        "  case \"O\": print(\"Es una vocal en mayúscula\")\n",
        "  case \"u\": print(\"Es una vocal en minúscula\")\n",
        "  case \"U\": print(\"Es una vocal en mayúscula\")\n",
        "  case _: print(\"No es una vocal\")\n",
        ""
      ],
      "metadata": {
        "colab": {
          "base_uri": "https://localhost:8080/"
        },
        "id": "_IvbfNP4YqBU",
        "outputId": "459504e4-d5b3-44df-8611-022638e6f366"
      },
      "execution_count": 2,
      "outputs": [
        {
          "output_type": "stream",
          "name": "stdout",
          "text": [
            "Ingrese una letra h\n",
            "No es una vocal\n",
            "Ingrese una letra u\n",
            "Es una vocal en minúscula\n"
          ]
        }
      ]
    },
    {
      "cell_type": "code",
      "source": [
        "a=float(input(\"Ingrese el primer número \"))\n",
        "b=float(input(\"Ingrese el segundo número \"))\n",
        "c=float(input(\"Ingrese el tercer número \"))\n",
        "h=float(input(\"Ingrese el cuarto número \"))\n",
        "i=float(input(\"Ingrese el quinto número \"))\n",
        "z= (a != b) and (a != c) and (a != h) and (a != i) and (b != c) and (b != h) and (b != i) and (c != h) and (c != i) and (h != i)\n",
        "mayor= (a if z and (a>b and a>c and a>h and a>i) else b if z and (b>a and b>c and b>h and b>i) else c if z and (c>a and c>b and c>h and c>i) else h if z and (h>a and h>b and h>c and h>i) else i if z and (i>a and i>b and i>c. and i>h) else \"todos los numeros deben ser diferentes\")\n",
        "print(f\"El numero mayor es: {mayor}\" if z else \"todos los numeros deben ser diferentes\")"
      ],
      "metadata": {
        "colab": {
          "base_uri": "https://localhost:8080/"
        },
        "id": "7HjxprMwgVck",
        "outputId": "7c708bf7-a671-480b-d1e8-e31d57e5cbb7"
      },
      "execution_count": 3,
      "outputs": [
        {
          "output_type": "stream",
          "name": "stdout",
          "text": [
            "Ingrese el primer número 5\n",
            "Ingrese el segundo número 32\n",
            "Ingrese el tercer número 1\n",
            "Ingrese el cuarto número 2\n",
            "Ingrese el quinto número 58\n",
            "El numero mayor es: 58.0\n"
          ]
        }
      ]
    }
  ],
  "metadata": {
    "kernelspec": {
      "display_name": "Python 3",
      "language": "python",
      "name": "python3"
    },
    "language_info": {
      "codemirror_mode": {
        "name": "ipython",
        "version": 3
      },
      "file_extension": ".py",
      "mimetype": "text/x-python",
      "name": "python",
      "nbconvert_exporter": "python",
      "pygments_lexer": "ipython3",
      "version": "3.8.5"
    },
    "colab": {
      "provenance": []
    }
  },
  "nbformat": 4,
  "nbformat_minor": 0
}