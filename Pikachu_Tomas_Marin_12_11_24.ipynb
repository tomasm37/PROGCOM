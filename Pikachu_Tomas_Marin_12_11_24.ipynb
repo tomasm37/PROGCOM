{
  "nbformat": 4,
  "nbformat_minor": 0,
  "metadata": {
    "colab": {
      "provenance": [],
      "authorship_tag": "ABX9TyO7FLG8LWSUR9ItQeIpsDIf",
      "include_colab_link": true
    },
    "kernelspec": {
      "name": "python3",
      "display_name": "Python 3"
    },
    "language_info": {
      "name": "python"
    }
  },
  "cells": [
    {
      "cell_type": "markdown",
      "metadata": {
        "id": "view-in-github",
        "colab_type": "text"
      },
      "source": [
        "<a href=\"https://colab.research.google.com/github/tomasm37/PROGCOM/blob/main/Pikachu_Tomas_Marin_12_11_24.ipynb\" target=\"_parent\"><img src=\"https://colab.research.google.com/assets/colab-badge.svg\" alt=\"Open In Colab\"/></a>"
      ]
    },
    {
      "cell_type": "code",
      "execution_count": 3,
      "metadata": {
        "id": "LPB7x3S63ah-"
      },
      "outputs": [],
      "source": [
        "class Pikachu:\n",
        "    __tipo = 'Electrico'\n",
        "\n",
        "    def __init__(self, nombre, nivel, salud, voltaje_max, amperaje_max, color):\n",
        "        self.nombre = nombre\n",
        "        self.__nivel = nivel\n",
        "        self.__salud = salud\n",
        "        self.__voltaje_maximo = voltaje_max\n",
        "        self.__amperaje_maximo = amperaje_max\n",
        "        self.color = color\n",
        "\n",
        "    @property\n",
        "    def salud(self):\n",
        "        return self.__salud\n",
        "\n",
        "    @salud.setter\n",
        "    def salud(self, salud):\n",
        "        if 0 < salud < 5000:\n",
        "            self.__salud = salud\n",
        "        else:\n",
        "            print(\"La salud no puede ser negativa\")\n",
        "            print(\"La salud no puede ser mayor a 5000\")\n",
        "def atacar(self):\n",
        "    print(f\"Pikachu ataca y genera {self.__nivel / 4} de daño\")"
      ]
    }
  ]
}