{
  "nbformat": 4,
  "nbformat_minor": 0,
  "metadata": {
    "colab": {
      "provenance": []
    },
    "kernelspec": {
      "name": "python3",
      "display_name": "Python 3"
    },
    "language_info": {
      "name": "python"
    }
  },
  "cells": [
    {
      "cell_type": "markdown",
      "source": [
        "#Ejercicio 1\n",
        "Crear el programa que solicite el nombre y el código de un estudiante y que luego lo imprima, junto con el logo de la institución educativa perteneciente.\n",
        "\n",
        "Ejemplo:\n",
        "\n",
        "Digite su nombre: Sonia Smith\n",
        "\n",
        "Digite su código: U000582515\n",
        "\n",
        "El programa imprimirá: UNIVERSIDAD AUTÓNOMA DE BUCARAMANGA\n",
        "\n",
        "Nombre del estudiante: Sonia Smith\n",
        "\n",
        "Código: U000582515"
      ],
      "metadata": {
        "id": "uru7mUJmgXBs"
      }
    },
    {
      "cell_type": "code",
      "execution_count": 1,
      "metadata": {
        "colab": {
          "base_uri": "https://localhost:8080/"
        },
        "id": "qWwYp6bugSkT",
        "outputId": "8196c8ca-2d27-4bfe-9255-c00225b01223"
      },
      "outputs": [
        {
          "output_type": "stream",
          "name": "stdout",
          "text": [
            "Ingrese su nombre: tomas\n",
            "Ingrese su código: 235\n",
            "\n",
            "UNIVERSIDAD AUTÓNOMA DE BUCARAMANGA\n",
            "Nombre del estudiante: tomas\n",
            "Código: 235\n"
          ]
        }
      ],
      "source": [
        "nombre = input(\"Ingrese su nombre: \")\n",
        "codigo = input(\"Ingrese su código: \")\n",
        "print(\"\\nUNIVERSIDAD AUTÓNOMA DE BUCARAMANGA\")\n",
        "print(\"Nombre del estudiante:\", nombre)\n",
        "print(\"Código:\", codigo)"
      ]
    },
    {
      "cell_type": "markdown",
      "source": [
        "#Ejercicio 2\n",
        "Diseñe un algoritmo para calcular el volumen de un cono."
      ],
      "metadata": {
        "id": "6B1_JU5hhsuS"
      }
    },
    {
      "cell_type": "code",
      "source": [
        "#ejercicio 2\n",
        "radio = float(input(\"Ingrese el radio de la base del cono: \"))\n",
        "altura = float(input(\"Ingrese la altura del cono: \"))\n",
        "volumen = (1/3) * 3.14159 * (radio ** 2) * altura\n",
        "print(\"El volumen del cono es:\", volumen)"
      ],
      "metadata": {
        "colab": {
          "base_uri": "https://localhost:8080/"
        },
        "id": "IQbcA6cgh2fB",
        "outputId": "7f50127f-6cb3-44c4-8f1e-526304f07660"
      },
      "execution_count": 2,
      "outputs": [
        {
          "output_type": "stream",
          "name": "stdout",
          "text": [
            "Ingrese el radio de la base del cono: 5\n",
            "Ingrese la altura del cono: 8\n",
            "El volumen del cono es: 209.4393333333333\n"
          ]
        }
      ]
    },
    {
      "cell_type": "markdown",
      "source": [
        "#Ejercicio 3\n",
        "Dado el conjunto de n servidores que apoyen una red de computadores, diseñe un programa que calcule el número total de conexiones entre los servidores que soportan la red.\n"
      ],
      "metadata": {
        "id": "TZF3z-UWiqaq"
      }
    },
    {
      "cell_type": "code",
      "source": [
        "def conexiones(n):\n",
        "    if n < 2:\n",
        "        return 0\n",
        "    return (n * (n - 1)) // 2\n",
        "n = int(input(\"Ingresa el número de servidores: \"))\n",
        "total_conexiones = conexiones(n)\n",
        "print(f\"El número total de conexiones de los servidores es: {total_conexiones}\")"
      ],
      "metadata": {
        "colab": {
          "base_uri": "https://localhost:8080/"
        },
        "id": "w0DcwN5CiyFQ",
        "outputId": "62582ebf-203d-4385-c1de-2bc69efc9ec2"
      },
      "execution_count": 4,
      "outputs": [
        {
          "output_type": "stream",
          "name": "stdout",
          "text": [
            "Ingresa el número de servidores: 6\n",
            "El número total de conexiones de los servidores es: 15\n"
          ]
        }
      ]
    },
    {
      "cell_type": "markdown",
      "source": [
        "#Ejercicio 4\n",
        "Diseñe un algoritmo que lea temperatura en grados centígrados (°C) y la convierta en grados Fahrenheit (°F) y a grados Kelvin (°K)."
      ],
      "metadata": {
        "id": "KnrogKFJkEN6"
      }
    },
    {
      "cell_type": "code",
      "source": [
        "def convertir_temperatura(celsius):\n",
        "    # Convertir a Fahrenheit\n",
        "    fahrenheit = celsius * (9 / 5) + 32\n",
        "    # Convertir a Kelvin\n",
        "    kelvin = celsius + 273.15\n",
        "    return fahrenheit, kelvin\n",
        "\n",
        "celsius = float(input(\"Digite la temperatura en grados Celsius (°C): \"))\n",
        "\n",
        "fahrenheit, kelvin = convertir_temperatura(celsius)\n",
        "\n",
        "print(f\"{celsius} °C es igual a {fahrenheit} °F\")\n",
        "print(f\"{celsius} °C es igual a {kelvin} °K\")\n"
      ],
      "metadata": {
        "colab": {
          "base_uri": "https://localhost:8080/"
        },
        "id": "AVeAqpDtkgqw",
        "outputId": "9de7a536-b508-4785-eaf9-751127d0aba9"
      },
      "execution_count": 6,
      "outputs": [
        {
          "output_type": "stream",
          "name": "stdout",
          "text": [
            "Digite la temperatura en grados Celsius (°C): 20\n",
            "20.0 °C es igual a 68.0 °F\n",
            "20.0 °C es igual a 293.15 °K\n"
          ]
        }
      ]
    },
    {
      "cell_type": "markdown",
      "source": [
        "#Ejercicio 5\n",
        "Diseñar el programa de un robot, que le permita contestar a ciertos requerimientos del usuario (se supone que el usuario sólo cuenta con una petición). Se debe programar los artículos y los precios de los mismos. El robot debe al menos:\n",
        "\n",
        "Dar la bienvenida al cliente.\n",
        "\n",
        "Indicar el precio del artículo que seleccionó el usuario."
      ],
      "metadata": {
        "id": "S6FAW9OSloFn"
      }
    },
    {
      "cell_type": "code",
      "source": [
        "articulos = {\"manzana\": 1673, \"banano\": 1000, \"leche\": 4620, \"pan\": 2000}\n",
        "\n",
        "def interactuar_con_cliente():\n",
        "    print(\"¡Hola! Bienvenido a nuestra tienda.\")\n",
        "\n",
        "    articulo_seleccionado = input(\"¿Qué artículo te gustaría saber el precio? (manzana, banano, leche, pan): \").lower()\n",
        "\n",
        "    if articulo_seleccionado in articulos:\n",
        "        precio = articulos[articulo_seleccionado]\n",
        "        print(f\"El precio de {articulo_seleccionado} es ${precio:.2f}.\")\n",
        "    else:\n",
        "        print(\"Lo siento, ese artículo no está disponible en nuestra tienda.\")\n",
        "\n",
        "interactuar_con_cliente()\n"
      ],
      "metadata": {
        "colab": {
          "base_uri": "https://localhost:8080/"
        },
        "id": "5pxCpitHmTLV",
        "outputId": "6efaf593-3cfb-4c4f-d25d-6f24526351e7"
      },
      "execution_count": 12,
      "outputs": [
        {
          "output_type": "stream",
          "name": "stdout",
          "text": [
            "¡Hola! Bienvenido a nuestra tienda.\n",
            "¿Qué artículo te gustaría saber el precio? (manzana, banano, leche, pan): banano\n",
            "El precio de banano es $1000.00.\n"
          ]
        }
      ]
    },
    {
      "cell_type": "markdown",
      "source": [
        "#Ejercicio 6\n",
        "Diseñe un programa que le permita calcular la resistencia total Rx. Considere que las n resistencias pueden estar en serie o en paralelo."
      ],
      "metadata": {
        "id": "ERl9AYXjonEl"
      }
    },
    {
      "cell_type": "code",
      "source": [
        "def resistencia_serie(resistencias):\n",
        "    return sum(resistencias)\n",
        "\n",
        "def resistencia_paralelo(resistencias):\n",
        "    inverso_total = sum(1 / r for r in resistencias)\n",
        "    return 1 / inverso_total if inverso_total != 0 else float('inf')\n",
        "\n",
        "tipo_conexion = input(\"¿Las resistencias están en serie o en paralelo? (serie/paralelo): \").lower()\n",
        "\n",
        "resistencias = []\n",
        "while True:\n",
        "    try:\n",
        "        resistencia = float(input(\"Ingrese el valor de una resistencia (o escriba '0' para terminar): \"))\n",
        "        if resistencia == 0:\n",
        "            break\n",
        "        resistencias.append(resistencia)\n",
        "    except ValueError:\n",
        "        print(\"Por favor, ingrese un número válido para la resistencia.\")\n",
        "\n",
        "if tipo_conexion == \"serie\":\n",
        "    Rx = resistencia_serie(resistencias)\n",
        "elif tipo_conexion == \"paralelo\":\n",
        "    Rx = resistencia_paralelo(resistencias)\n",
        "else:\n",
        "    Rx = None\n",
        "    print(\"Tipo de conexión no válido. Debe ser 'serie' o 'paralelo'.\")\n",
        "\n",
        "if Rx is not None:\n",
        "    print(f\"La resistencia total es: {Rx:.2f} ohmios.\")\n",
        "\n"
      ],
      "metadata": {
        "colab": {
          "base_uri": "https://localhost:8080/"
        },
        "id": "rUSmUey8pEPs",
        "outputId": "6dbd727d-8610-48b3-ae2a-63574a56be3d"
      },
      "execution_count": 16,
      "outputs": [
        {
          "output_type": "stream",
          "name": "stdout",
          "text": [
            "¿Las resistencias están en serie o en paralelo? (serie/paralelo): paralelo\n",
            "Ingrese el valor de una resistencia (o escriba '0' para terminar): 5\n",
            "Ingrese el valor de una resistencia (o escriba '0' para terminar): 1\n",
            "Ingrese el valor de una resistencia (o escriba '0' para terminar): 4\n",
            "Ingrese el valor de una resistencia (o escriba '0' para terminar): 0\n",
            "La resistencia total es: 0.69 ohmios.\n"
          ]
        }
      ]
    },
    {
      "cell_type": "markdown",
      "source": [
        "#Ejercicio 7\n",
        "Diseñe un algoritmo que lea temperatura en grados centígrados (°C) y la convierta en grados Fahrenheit (°F) y a grados Kelvin (°K), siempre y cuando la temperatura dada en grados sea positiva."
      ],
      "metadata": {
        "id": "p7cn0DiSrD87"
      }
    },
    {
      "cell_type": "code",
      "source": [
        "def convertir_temperatura(celsius):\n",
        "    if celsius >= 0:\n",
        "        fahrenheit = celsius * (9 / 5) + 32\n",
        "        kelvin = celsius + 273.15\n",
        "        return fahrenheit, kelvin\n",
        "    else:\n",
        "        return None, None\n",
        "\n",
        "celsius = float(input(\"Ingrese la temperatura en grados Celsius (°C): \"))\n",
        "\n",
        "fahrenheit, kelvin = convertir_temperatura(celsius)\n",
        "\n",
        "if fahrenheit is not None and kelvin is not None:\n",
        "    print(f\"{celsius} °C es igual a {fahrenheit:.2f} °F\")\n",
        "    print(f\"{celsius} °C es igual a {kelvin:.2f} °K\")\n",
        "else:\n",
        "    print(\"La temperatura debe ser positiva para realizar la conversión.\")"
      ],
      "metadata": {
        "id": "z1kowiZEruXK"
      },
      "execution_count": null,
      "outputs": []
    },
    {
      "cell_type": "markdown",
      "source": [
        "#Ejercicio 8\n",
        "Dado dos enteros: horas(h) y minutos (m), representativos del tiempo en horas y minutos dado por un reloj de 24 horas, convierta el tiempo dado por el reloj de 24 horas a un reloj que obtenga el tiempo cada 12 horas."
      ],
      "metadata": {
        "id": "Z4XvpG72sp85"
      }
    },
    {
      "cell_type": "code",
      "source": [
        "def convertir_a_12_horas(horas, minutos):\n",
        "    if horas >= 24 or minutos >= 60:\n",
        "        return \"Hora o minutos inválidos\"\n",
        "\n",
        "    if horas == 0:\n",
        "        horas_12 = 12\n",
        "        periodo = \"AM\"\n",
        "    elif horas < 12:\n",
        "        horas_12 = horas\n",
        "        periodo = \"AM\"\n",
        "    elif horas == 12:\n",
        "        horas_12 = 12\n",
        "        periodo = \"PM\"\n",
        "    else:\n",
        "        horas_12 = horas - 12\n",
        "        periodo = \"PM\"\n",
        "\n",
        "    return f\"{horas_12}:{minutos:02d} {periodo}\"\n",
        "\n",
        "horas = int(input(\"Ingrese las horas (0-23): \"))\n",
        "minutos = int(input(\"Ingrese los minutos (0-59): \"))\n",
        "\n",
        "resultado = convertir_a_12_horas(horas, minutos)\n",
        "print(\"El tiempo en formato de 12 horas es:\", resultado)\n"
      ],
      "metadata": {
        "colab": {
          "base_uri": "https://localhost:8080/"
        },
        "id": "uPKtAfAGvL2x",
        "outputId": "410fb4b7-c686-46b4-f266-dc1873e62bc7"
      },
      "execution_count": 17,
      "outputs": [
        {
          "output_type": "stream",
          "name": "stdout",
          "text": [
            "Ingrese las horas (0-23): 16\n",
            "Ingrese los minutos (0-59): 56\n",
            "El tiempo en formato de 12 horas es: 4:56 PM\n"
          ]
        }
      ]
    },
    {
      "cell_type": "markdown",
      "source": [
        "#Ejercicio 9\n",
        "Crear el programa que solicite el nombre y el código de n estudiantes. Dependiendo del código, clasifique la carrera del estudiante y que luego lo imprima, junto con el nombre de la institución educativa perteneciente.\n",
        "\n",
        "Ejemplo:\n",
        "\n",
        "Digite su nombre: Sonia Smith\n",
        "\n",
        "Digite su código: U000582515\n",
        "\n",
        "El programa imprimirá: UNIVERSIDAD AUTÓNOMA DE BUCARAMANGA\n",
        "\n",
        "Nombre del estudiante: Sonia Smith\n",
        "\n",
        "Código: U000382515\n",
        "\n",
        "Carrera: Ingeniería Mectrónica.\n",
        "\n",
        "Considere que los programas están dados por los cuatro primeros números después de la U del código:\n",
        "\n",
        "0001: Telecomunicaciones\n",
        "\n",
        "0002: Financiera\n",
        "\n",
        "0003: Mecatrónica\n",
        "\n",
        "0004: (una de su elección)"
      ],
      "metadata": {
        "id": "qRxGI0QDvo_Q"
      }
    },
    {
      "cell_type": "code",
      "source": [
        "def obtener_carrera(codigo):\n",
        "    carrera_codigo = codigo[1:5]\n",
        "    if carrera_codigo == \"0001\":\n",
        "        return \"Telecomunicaciones\"\n",
        "    elif carrera_codigo == \"0002\":\n",
        "        return \"Financiera\"\n",
        "    elif carrera_codigo == \"0003\":\n",
        "        return \"Mecatrónica\"\n",
        "    elif carrera_codigo == \"0004\":\n",
        "        return \"Electrónica\"\n",
        "    else:\n",
        "        return \"Carrera no disponible\"\n",
        "\n",
        "nombre = input(\"Digite su nombre: \")\n",
        "codigo = input(\"Digite su código: \")\n",
        "\n",
        "\n",
        "carrera = obtener_carrera(codigo)\n",
        "\n",
        "print(\"\\nNombre de la institución educativa: UNIVERSIDAD AUTÓNOMA DE BUCARAMANGA\")\n",
        "print(f\"Nombre del estudiante: {nombre}\")\n",
        "print(f\"Código: {codigo}\")\n",
        "print(f\"Carrera: {carrera}\")\n"
      ],
      "metadata": {
        "colab": {
          "base_uri": "https://localhost:8080/"
        },
        "id": "2nIa5WKUv_BH",
        "outputId": "6b4caeb5-5a66-4525-bff5-cd744b3d47d2"
      },
      "execution_count": 19,
      "outputs": [
        {
          "output_type": "stream",
          "name": "stdout",
          "text": [
            "Digite su nombre: tomas\n",
            "Digite su código: 0002\n",
            "\n",
            "Nombre de la institución educativa: UNIVERSIDAD AUTÓNOMA DE BUCARAMANGA\n",
            "Nombre del estudiante: tomas\n",
            "Código: 0002\n",
            "Carrera: Carrera no disponible\n"
          ]
        }
      ]
    },
    {
      "cell_type": "markdown",
      "source": [
        "#Ejercicio 10\n",
        "Diseñe un algoritmo que ejecute las funciones trigonométricas sen(x), cos(x) y tan(x) sujetas a la selección de las opciones asociadas así: Opción 1 para la función seno, opción 2 para la función coseno y opción 3 para el cálculo de la tangente, siendo el valor de x un argumento de entrada dado en grados."
      ],
      "metadata": {
        "id": "2-LrtpRowU5A"
      }
    },
    {
      "cell_type": "code",
      "source": [
        "import math\n",
        "\n",
        "def calcular_trigonometria(opcion, grados):\n",
        "    # Convertir grados a radianes\n",
        "    radianes = math.radians(grados)\n",
        "\n",
        "    if opcion == 1:\n",
        "        return math.sin(radianes)  # Seno\n",
        "    elif opcion == 2:\n",
        "        return math.cos(radianes)  # Coseno\n",
        "    elif opcion == 3:\n",
        "        return math.tan(radianes)  # Tangente\n",
        "    else:\n",
        "        return \"Opción no válida\"\n",
        "\n",
        "opcion = int(input(\"Seleccione la opción (1: seno, 2: coseno, 3: tangente): \"))\n",
        "\n",
        "grados = float(input(\"Ingrese el valor en grados: \"))\n",
        "\n",
        "resultado = calcular_trigonometria(opcion, grados)\n",
        "if isinstance(resultado, str):\n",
        "    print(resultado)\n",
        "else:\n",
        "    print(f\"El resultado es: {resultado:.4f}\")\n"
      ],
      "metadata": {
        "colab": {
          "base_uri": "https://localhost:8080/"
        },
        "id": "GWv95iUzwdWw",
        "outputId": "cae2ec75-430b-45c8-ae1c-a177d450645f"
      },
      "execution_count": 20,
      "outputs": [
        {
          "output_type": "stream",
          "name": "stdout",
          "text": [
            "Seleccione la opción (1: seno, 2: coseno, 3: tangente): 2\n",
            "Ingrese el valor en grados: 45\n",
            "El resultado es: 0.7071\n"
          ]
        }
      ]
    }
  ]
}