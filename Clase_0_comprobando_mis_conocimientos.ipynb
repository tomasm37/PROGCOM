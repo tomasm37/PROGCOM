{
  "nbformat": 4,
  "nbformat_minor": 0,
  "metadata": {
    "colab": {
      "provenance": []
    },
    "kernelspec": {
      "name": "python3",
      "display_name": "Python 3"
    },
    "language_info": {
      "name": "python"
    }
  },
  "cells": [
    {
      "cell_type": "markdown",
      "source": [
        "#prueba de conocimientos\n",
        "\n"
      ],
      "metadata": {
        "id": "nqEVP71tGQ1r"
      }
    },
    {
      "cell_type": "markdown",
      "source": [
        "##tipo de datos\n",
        "1. numerico\n",
        "- entero: int\n",
        "-decimal: float\n",
        "2. alfanumerico o cadena de caracteres.\n",
        "(string-str)\n",
        "3. logico: boolean - bool\n",
        "4. lista: list[]\n",
        "5. diccionario: dict{}\n",
        "\n",
        "para saber que tipo de datos estamos manipulando se usa la funcion type()\n",
        "\n"
      ],
      "metadata": {
        "id": "Wdg-FTE1Ghv7"
      }
    },
    {
      "cell_type": "code",
      "source": [
        "5+3*4\n"
      ],
      "metadata": {
        "colab": {
          "base_uri": "https://localhost:8080/"
        },
        "id": "VQsVDgsWH8CR",
        "outputId": "eb347530-3036-486c-99f7-061df2ef0c03"
      },
      "execution_count": null,
      "outputs": [
        {
          "output_type": "execute_result",
          "data": {
            "text/plain": [
              "17"
            ]
          },
          "metadata": {},
          "execution_count": 2
        }
      ]
    },
    {
      "cell_type": "code",
      "source": [
        "type(5+3*4)\n"
      ],
      "metadata": {
        "colab": {
          "base_uri": "https://localhost:8080/"
        },
        "id": "2Ps2xKQPIAyo",
        "outputId": "6a393414-f337-4d9a-8243-267ba78eb59e"
      },
      "execution_count": null,
      "outputs": [
        {
          "output_type": "execute_result",
          "data": {
            "text/plain": [
              "int"
            ]
          },
          "metadata": {},
          "execution_count": 3
        }
      ]
    },
    {
      "cell_type": "code",
      "source": [
        "print (f\"5+3*4={5+3*4} y da como resultado un valor de tipo{type(5+3*4)}\")\n"
      ],
      "metadata": {
        "colab": {
          "base_uri": "https://localhost:8080/"
        },
        "id": "lHQl8EpJIJLp",
        "outputId": "fd0cd55e-b639-4edd-e957-0654ab0c641a"
      },
      "execution_count": null,
      "outputs": [
        {
          "output_type": "stream",
          "name": "stdout",
          "text": [
            "5+3*4=17 y da como resultado un valor de tipo<class 'int'>\n"
          ]
        }
      ]
    },
    {
      "cell_type": "code",
      "source": [
        "#cuando se usa + en string, sucede la concatenacion\n",
        "\"5\"+\"3\"*2"
      ],
      "metadata": {
        "colab": {
          "base_uri": "https://localhost:8080/",
          "height": 35
        },
        "id": "7xP9LBqRI_yo",
        "outputId": "7ab5fa0e-f8d0-4de1-daa4-093f8359d490"
      },
      "execution_count": null,
      "outputs": [
        {
          "output_type": "execute_result",
          "data": {
            "text/plain": [
              "'533'"
            ],
            "application/vnd.google.colaboratory.intrinsic+json": {
              "type": "string"
            }
          },
          "metadata": {},
          "execution_count": 5
        }
      ]
    },
    {
      "cell_type": "code",
      "source": [
        "#= es asignacion. == comparacion\n",
        "2 ** 11 == 1000"
      ],
      "metadata": {
        "colab": {
          "base_uri": "https://localhost:8080/"
        },
        "id": "VZ744yUYJCYx",
        "outputId": "f589b968-9998-4656-91f1-36dc9a399b5b"
      },
      "execution_count": null,
      "outputs": [
        {
          "output_type": "execute_result",
          "data": {
            "text/plain": [
              "False"
            ]
          },
          "metadata": {},
          "execution_count": 6
        }
      ]
    },
    {
      "cell_type": "markdown",
      "source": [
        "##Operaciones logicas\n",
        "1. Disyuncion (o): una proposicion es verdadera, si al menos una de ella lo es. En phyton se puede anunciar con la palabra \"or\" o con **||**\n",
        "ejemplo: V OR V DA V. V OR F DA V. F OR V DA V F OR F DA F\n",
        "\n",
        "2. Conjuncion (y): Una preposicion es verdadera, si Y SOLO SI, ambas preposiciones son verdaderas. En phyton, se utiliza la palabra **and** o **gg** para su uso. Ejemplo F and F da F; F and V da F; V and F da F; V and V da V\n",
        "\n",
        "3. Negacion (no) niega el valor de la verdad de una preposicion. Si el valor de verdad es true, se vuelve false. En phyton se usa la palabra **not** o ~ para denotarla."
      ],
      "metadata": {
        "id": "-bmGqyrdJoeI"
      }
    },
    {
      "cell_type": "code",
      "source": [
        "a= 2 ** 11 == 1000 or 2 ** 9 == 100"
      ],
      "metadata": {
        "id": "jTR7Wa9pKtmu"
      },
      "execution_count": null,
      "outputs": []
    },
    {
      "cell_type": "code",
      "source": [
        "#Colocar un tipo de dato antes del dato, se usa para transformar el dato dentro del parentesis en el dato por fuera del parentesis\n",
        "int(\"cincuenta\")"
      ],
      "metadata": {
        "id": "Yu47mUQEQLdy"
      },
      "execution_count": null,
      "outputs": []
    },
    {
      "cell_type": "code",
      "source": [
        "print(f\"el valor de la expresion a=2 ** 11 == 1000 or 2 ** 9 == 100 es {a}\")\n"
      ],
      "metadata": {
        "colab": {
          "base_uri": "https://localhost:8080/"
        },
        "id": "vygptICrLIYH",
        "outputId": "a61ccbec-fa38-4a2e-c28d-6bd4b018d6ee"
      },
      "execution_count": null,
      "outputs": [
        {
          "output_type": "stream",
          "name": "stdout",
          "text": [
            "el valor de la expresion a=2 ** 11 == 1000 or 2 ** 9 == 100 es False\n"
          ]
        }
      ]
    },
    {
      "cell_type": "code",
      "source": [
        "int(\"50\")\n"
      ],
      "metadata": {
        "colab": {
          "base_uri": "https://localhost:8080/"
        },
        "id": "MFcDuMVCOwhs",
        "outputId": "8da88007-843b-45a4-c978-c92562ee49f4"
      },
      "execution_count": null,
      "outputs": [
        {
          "output_type": "execute_result",
          "data": {
            "text/plain": [
              "50"
            ]
          },
          "metadata": {},
          "execution_count": 15
        }
      ]
    },
    {
      "cell_type": "code",
      "source": [
        "str(\"50\")"
      ],
      "metadata": {
        "colab": {
          "base_uri": "https://localhost:8080/",
          "height": 35
        },
        "id": "tCasZ_F7O_qT",
        "outputId": "18cdfd10-2b75-448b-b434-9c7d1c6e1aeb"
      },
      "execution_count": null,
      "outputs": [
        {
          "output_type": "execute_result",
          "data": {
            "text/plain": [
              "'50'"
            ],
            "application/vnd.google.colaboratory.intrinsic+json": {
              "type": "string"
            }
          },
          "metadata": {},
          "execution_count": 16
        }
      ]
    },
    {
      "cell_type": "code",
      "source": [
        "# siempre que haya una division el resultado dara decimal\n",
        "16/16 + 384/24"
      ],
      "metadata": {
        "colab": {
          "base_uri": "https://localhost:8080/"
        },
        "id": "gf1nZ94LPAlz",
        "outputId": "cbdb3c89-a9f6-4c12-99af-0e0610e5763c"
      },
      "execution_count": null,
      "outputs": [
        {
          "output_type": "execute_result",
          "data": {
            "text/plain": [
              "17.0"
            ]
          },
          "metadata": {},
          "execution_count": 17
        }
      ]
    },
    {
      "cell_type": "code",
      "source": [
        "type(16/16 + 384/24)"
      ],
      "metadata": {
        "colab": {
          "base_uri": "https://localhost:8080/"
        },
        "id": "Z8FUR7jsPwic",
        "outputId": "d566531f-9abf-4327-f080-2a0e2d4cab97"
      },
      "execution_count": null,
      "outputs": [
        {
          "output_type": "execute_result",
          "data": {
            "text/plain": [
              "float"
            ]
          },
          "metadata": {},
          "execution_count": 18
        }
      ]
    },
    {
      "cell_type": "code",
      "source": [
        "# % es el modulo de la operacion\n",
        "600 +18%2"
      ],
      "metadata": {
        "colab": {
          "base_uri": "https://localhost:8080/"
        },
        "id": "2da4S4BDP4yK",
        "outputId": "0c887606-07d9-48a2-a2b7-b60bc2548f38"
      },
      "execution_count": null,
      "outputs": [
        {
          "output_type": "execute_result",
          "data": {
            "text/plain": [
              "600"
            ]
          },
          "metadata": {},
          "execution_count": 19
        }
      ]
    },
    {
      "cell_type": "code",
      "source": [
        "0 < (4096%10) <6"
      ],
      "metadata": {
        "colab": {
          "base_uri": "https://localhost:8080/"
        },
        "id": "8en5uBzzQUI6",
        "outputId": "6ee2838b-9124-44c5-a653-c6f4495eea32"
      },
      "execution_count": null,
      "outputs": [
        {
          "output_type": "execute_result",
          "data": {
            "text/plain": [
              "False"
            ]
          },
          "metadata": {},
          "execution_count": 20
        }
      ]
    },
    {
      "cell_type": "code",
      "source": [
        "b = 'max'+ 'min'"
      ],
      "metadata": {
        "id": "XrLUBuiVQ9D7"
      },
      "execution_count": null,
      "outputs": []
    },
    {
      "cell_type": "code",
      "source": [
        "print(f\"la operacion 'max'+ 'min' da {b} y es de tipo{type(b)}\")"
      ],
      "metadata": {
        "colab": {
          "base_uri": "https://localhost:8080/"
        },
        "id": "bPCLxjEARZ0h",
        "outputId": "a1a03f3a-a177-41fb-f497-a41ae26434d6"
      },
      "execution_count": null,
      "outputs": [
        {
          "output_type": "stream",
          "name": "stdout",
          "text": [
            "la operacion 'max'+ 'min' da maxmin y es de tipo<class 'str'>\n"
          ]
        }
      ]
    },
    {
      "cell_type": "code",
      "source": [
        "# ABC es una funcion no definida\n",
        "ABC( ) * DEF ( )"
      ],
      "metadata": {
        "colab": {
          "base_uri": "https://localhost:8080/",
          "height": 159
        },
        "id": "wbAclxbTSW54",
        "outputId": "5e5106aa-94ea-40ff-f3de-d605ae3a62e3"
      },
      "execution_count": null,
      "outputs": [
        {
          "output_type": "error",
          "ename": "NameError",
          "evalue": "name 'ABC' is not defined",
          "traceback": [
            "\u001b[0;31m---------------------------------------------------------------------------\u001b[0m",
            "\u001b[0;31mNameError\u001b[0m                                 Traceback (most recent call last)",
            "\u001b[0;32m<ipython-input-29-ac9e073aed7d>\u001b[0m in \u001b[0;36m<cell line: 2>\u001b[0;34m()\u001b[0m\n\u001b[1;32m      1\u001b[0m \u001b[0;31m# ABC es una funcion no definida\u001b[0m\u001b[0;34m\u001b[0m\u001b[0;34m\u001b[0m\u001b[0m\n\u001b[0;32m----> 2\u001b[0;31m \u001b[0mABC\u001b[0m\u001b[0;34m(\u001b[0m \u001b[0;34m)\u001b[0m \u001b[0;34m*\u001b[0m \u001b[0mDEF\u001b[0m \u001b[0;34m(\u001b[0m \u001b[0;34m)\u001b[0m\u001b[0;34m\u001b[0m\u001b[0;34m\u001b[0m\u001b[0m\n\u001b[0m",
            "\u001b[0;31mNameError\u001b[0m: name 'ABC' is not defined"
          ]
        }
      ]
    },
    {
      "cell_type": "code",
      "source": [
        "float (-int(\"7\")+int('90))"
      ],
      "metadata": {
        "colab": {
          "base_uri": "https://localhost:8080/",
          "height": 106
        },
        "id": "mt-1YIv7SvdJ",
        "outputId": "47ebb49b-9e81-48eb-bb17-bf6942d00ec7"
      },
      "execution_count": null,
      "outputs": [
        {
          "output_type": "error",
          "ename": "SyntaxError",
          "evalue": "unterminated string literal (detected at line 1) (<ipython-input-30-4abfe04f27dc>, line 1)",
          "traceback": [
            "\u001b[0;36m  File \u001b[0;32m\"<ipython-input-30-4abfe04f27dc>\"\u001b[0;36m, line \u001b[0;32m1\u001b[0m\n\u001b[0;31m    float (-int(\"7\")+int('90))\u001b[0m\n\u001b[0m                         ^\u001b[0m\n\u001b[0;31mSyntaxError\u001b[0m\u001b[0;31m:\u001b[0m unterminated string literal (detected at line 1)\n"
          ]
        }
      ]
    },
    {
      "cell_type": "markdown",
      "source": [
        "abs(len('seis') - len('tres'))\n",
        "\n",
        "1. abs = valor absoluto\n",
        "2. len = cuenta la cantidad de letras de un string\n",
        "- len('seis')=4\n",
        "- len('tres)=4\n"
      ],
      "metadata": {
        "id": "0Fs4rmDDWJwF"
      }
    },
    {
      "cell_type": "code",
      "source": [
        "#Todos los números a excepción de 0 , da true al convertirlos en booleanos\n",
        "bool(1210) or bool(-3465)"
      ],
      "metadata": {
        "colab": {
          "base_uri": "https://localhost:8080/"
        },
        "id": "cp1Njp3qS_Gw",
        "outputId": "ff6bae22-e5b1-46c3-d104-33330e57d988"
      },
      "execution_count": null,
      "outputs": [
        {
          "output_type": "execute_result",
          "data": {
            "text/plain": [
              "True"
            ]
          },
          "metadata": {},
          "execution_count": 31
        }
      ]
    }
  ]
}