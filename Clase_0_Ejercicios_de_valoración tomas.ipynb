{
  "cells": [
    {
      "cell_type": "markdown",
      "metadata": {
        "id": "LMTngmL8WTCH"
      },
      "source": [
        "# Listado de Ejercicios a realizar"
      ]
    },
    {
      "cell_type": "markdown",
      "metadata": {
        "id": "o1F8rAPeWTCI"
      },
      "source": [
        "## 1. Sin usar el computador, evalúe las siguientes expresiones, y para cada una de ellas indique el resultado y su tipo (si la expresión es válida) o qué error ocurre:\n",
        "\n",
        "### Ejemplo\n",
        "- 2 + 3      # Respuesta: tipo int, valor 5\n",
        "- 4 / 0      # Respuesta: error de división por cero\n",
        "\n",
        "### Ejercicio\n",
        "\n",
        "- 5 + 3 * 4: 17\n",
        "- '5' + '3' * 2\n",
        "- 2 ** 11 == 1000 or 2 ** 9 == 100\n",
        "- int(\"cincuenta\")\n",
        "- 16/16 + 384/24\n",
        "- 600 + 18%\n",
        "- 0 < (4096 % 10) < 6\n",
        "- 'Max' + 'Min'\n",
        "- ABC() * DEF()\n",
        "- float(-int(\"7\")+int('90))\n",
        "- abs(len('seis') - len('tres'))\n",
        "- bool(1210) or bool(-3465)\n",
        "- float(str(int('8' * 3) / 3)[3])"
      ]
    },
    {
      "cell_type": "markdown",
      "metadata": {
        "id": "3ypbOL-AWTCI"
      },
      "source": [
        "#Respuesta\n"
      ]
    },
    {
      "cell_type": "markdown",
      "metadata": {
        "id": "hTD-ALkgWTCI"
      },
      "source": [
        "# 2. Imprima su nombre y fecha\n",
        "- Imprime: Jorge Alvarez - 20-04-2020"
      ]
    },
    {
      "cell_type": "code",
      "execution_count": null,
      "metadata": {
        "id": "Tgol0HqEWTCJ"
      },
      "outputs": [],
      "source": [
        "# Respuesta:\n",
        "print(\"tomas - 07/06/2003\")"
      ]
    },
    {
      "cell_type": "markdown",
      "metadata": {
        "id": "ayG30b-MWTCJ"
      },
      "source": [
        "# 3. Solicite un nombre y que el programa salude\n",
        "### Ejemplo:\n",
        "- ingreso: 'Andres'\n",
        "- imprime: 'Hola Andres'"
      ]
    },
    {
      "cell_type": "code",
      "execution_count": null,
      "metadata": {
        "id": "wiapNAn4WTCJ"
      },
      "outputs": [],
      "source": [
        "x=input(\"Buenas, ¿Cómo es tu nombre? \")\n",
        "print(f\"Hola {x} ¿En que te puedo ayudar?\")"
      ]
    },
    {
      "cell_type": "markdown",
      "metadata": {
        "id": "CYn33iniWTCK"
      },
      "source": [
        "# 4. Solicite el radio (un numero) de un círculo e imprima como salida su diámetro, perímetro y su área\n",
        "### Ejemplo\n",
        "- ingreso: 3\n",
        "- imprime - Diametro: 6\n",
        "- imprime - Perimetro: 18.84\n",
        "- imprime - Area: 28.27"
      ]
    },
    {
      "cell_type": "code",
      "execution_count": null,
      "metadata": {
        "id": "QR3TreJqWTCK"
      },
      "outputs": [],
      "source": [
        "R=float(input(\"Ingrese el radio del circulo \"))\n",
        "D=R*2\n",
        "P=3.1416*D\n",
        "A=3.1416*R**2\n",
        "print(f\"Diametro: {D}\")\n",
        "print(f\"Perimetro: {P}\")\n",
        "print(f\"Area: {A}\")"
      ]
    },
    {
      "cell_type": "markdown",
      "metadata": {
        "id": "CnJUFicqWTCK"
      },
      "source": [
        "# 5. Solicite 6 notas y calcule el promedio de ellas\n",
        "### Ejemplo\n",
        "- ingreso: 1 2 3 4 5 6\n",
        "- imprime: 3.5"
      ]
    },
    {
      "cell_type": "code",
      "execution_count": null,
      "metadata": {
        "id": "w4INhZgOWTCK"
      },
      "outputs": [],
      "source": [
        "# Respuesta:\n",
        "n1=float(input(\"Ingresa nota 1 del estudiante \"))\n",
        "n2=float(input(\"Ingresa nota 2 del estudiante \"))\n",
        "n3=float(input(\"Ingresa nota 3 del estudiante \"))\n",
        "n4=float(input(\"Ingresa nota 4 del estudiante \"))\n",
        "n5=float(input(\"Ingresa nota 5 del estudiante \"))\n",
        "n6=float(input(\"Ingresa nota 6 del estudiante \"))\n",
        "\n",
        "totaln=n1+n2+n3+n4+n5+n6\n",
        "prom=totaln/6\n",
        "print(f\"El promedio es: {prom}\")"
      ]
    },
    {
      "cell_type": "markdown",
      "metadata": {
        "id": "9uGS-7dkWTCK"
      },
      "source": [
        "# 6. Solicite un valor e imprima que tipo de dato es\n",
        "### Ejemplo\n",
        "- ingreso: 'A'\n",
        "- imprime: str\n",
        "- ingreso: 1\n",
        "- imprime: int"
      ]
    },
    {
      "cell_type": "code",
      "execution_count": null,
      "metadata": {
        "id": "qW2J1DjwWTCK"
      },
      "outputs": [],
      "source": [
        "# Respuesta:\n"
      ]
    },
    {
      "cell_type": "markdown",
      "metadata": {
        "id": "DwYtzwPKWTCK"
      },
      "source": [
        "# 7. Escriba en código la siguiente ecuación\n",
        "$$ \\left(\\frac{5+3}{3-2}\\right)^2$$"
      ]
    },
    {
      "cell_type": "code",
      "source": [
        "# Respuesta\n",
        "y=(5+3)/(3-2)\n",
        "x=y**2\n",
        "print(x)"
      ],
      "metadata": {
        "id": "HNgU-6C1Yguq",
        "colab": {
          "base_uri": "https://localhost:8080/"
        },
        "outputId": "c6d2b91a-7cb9-487e-adac-f7f06bc12ab5"
      },
      "execution_count": 1,
      "outputs": [
        {
          "output_type": "stream",
          "name": "stdout",
          "text": [
            "64.0\n"
          ]
        }
      ]
    },
    {
      "cell_type": "markdown",
      "metadata": {
        "id": "9U9cBSCtWTCL"
      },
      "source": [
        "# 8. Solicite número de horas trabajadas y coste por horas e imprima el valor\n",
        "### Ejemplo:\n",
        "- Ingreso: 4 (horas)\n",
        "- ingreso: 80.000 (precio x hora)\n",
        "- imprime: 320.000"
      ]
    },
    {
      "cell_type": "code",
      "execution_count": 3,
      "metadata": {
        "id": "x-dT-cLeWTCL",
        "colab": {
          "base_uri": "https://localhost:8080/"
        },
        "outputId": "415307c1-160f-4f82-b559-c29363595c17"
      },
      "outputs": [
        {
          "output_type": "stream",
          "name": "stdout",
          "text": [
            "Ingrese el tiempo de horas trabajadas:8\n",
            "Introduce el valor que se aplica a cada hora: 20000\n",
            "El valor total que se aplica por las horas trabajadas es de: 160000.0 \n"
          ]
        }
      ],
      "source": [
        "# Respuesta\n",
        "x = float(input(\"Ingrese el tiempo de horas trabajadas:\"))\n",
        "y = int(input(\"Introduce el valor que se aplica a cada hora: \"))\n",
        "\n",
        "total=x*y\n",
        "print(f\"El valor total que se aplica por las horas trabajadas es de: {total} \")"
      ]
    },
    {
      "cell_type": "markdown",
      "metadata": {
        "id": "zyktCgr5WTCL"
      },
      "source": [
        "# 9. Solicite la temperatura en grados Celsius e imprima en grados Kelvin y Fahrenheit\n",
        "### Ejemplo:\n",
        "- ingreso: 38 (°C)\n",
        "- imprime: 311.15 °K\n",
        "- imprime: 100.4 °F"
      ]
    },
    {
      "cell_type": "code",
      "execution_count": 4,
      "metadata": {
        "id": "-ydgy_YwWTCL",
        "colab": {
          "base_uri": "https://localhost:8080/"
        },
        "outputId": "21690c9b-17ec-4c31-b94d-cbfc9e4ddb81"
      },
      "outputs": [
        {
          "output_type": "stream",
          "name": "stdout",
          "text": [
            "Ingresa la temperatura en grados C°: 25\n",
            "La temperatura en kelvin es: 298.15\n",
            "La temperatura en fahrenheit es: 82.6\n"
          ]
        }
      ],
      "source": [
        "# Respuesta\n",
        "c=float(input(\"Ingresa la temperatura en grados C°: \"))\n",
        "k=c+273.15\n",
        "f=c+32*(9/5)\n",
        "\n",
        "if k < 0:\n",
        "  print(\"La temperatura en kelvin no puede ser menor a 0\")\n",
        "else:\n",
        "  print(f\"La temperatura en kelvin es: {k}\")\n",
        "\n",
        "\n",
        "print(f\"La temperatura en fahrenheit es: {f}\")"
      ]
    },
    {
      "cell_type": "markdown",
      "metadata": {
        "id": "uos8PvG9WTCL"
      },
      "source": [
        "# 10. Solicite 2 numeros e imprima si el segundo es mayor  \n",
        "### Ejemplo:\n",
        "- ingreso: 2\n",
        "- ingreso: 3\n",
        "- impmrime: True"
      ]
    },
    {
      "cell_type": "code",
      "execution_count": null,
      "metadata": {
        "id": "cVxmGhPVWTCL"
      },
      "outputs": [],
      "source": [
        "# Respuesta\n",
        "n1=float(int(input(\"Ingrese el 1° numero: \")))\n",
        "n2=float(int(input(\"Ingrese el 2° numero: \")))\n",
        "\n",
        "if n2<n1:\n",
        "  print(\"True\")\n",
        "else:\n",
        "  print(\"False\")"
      ]
    },
    {
      "cell_type": "markdown",
      "metadata": {
        "id": "wnBR7YdPWTCL"
      },
      "source": [
        "# 11. Solicite 2 numeros e imprima si el segundo es menor  \n",
        "### Ejemplo:\n",
        "- ingreso: 2\n",
        "- ingreso: 3\n",
        "- impmrime: False"
      ]
    },
    {
      "cell_type": "code",
      "execution_count": null,
      "metadata": {
        "id": "9T9-iqzgWTCL"
      },
      "outputs": [],
      "source": [
        "# Respuesta\n"
      ]
    },
    {
      "cell_type": "markdown",
      "metadata": {
        "id": "X3JU40SNWTCL"
      },
      "source": [
        "# 12. Solicite una distancia (metros) y la velocidad (metros/segundos) e imprima el tiempo que se demora el recorrido\n",
        "### Ejemplo:\n",
        "- ingreso: 150 (metros)\n",
        "- ingreso: 15 (metros/segundo)\n",
        "- Imprime: 10 segundos"
      ]
    },
    {
      "cell_type": "code",
      "execution_count": null,
      "metadata": {
        "id": "Q04rEmU9WTCL"
      },
      "outputs": [],
      "source": [
        "# Respuesta\n"
      ]
    },
    {
      "cell_type": "markdown",
      "metadata": {
        "id": "_8l0zJ0OWTCM"
      },
      "source": [
        "# 13. Solicite al usuario tres valores y escriba en código la siguiente ecuación\n",
        "$$ \\left(\\frac{a+b}{c}\\right) ^2 + \\left(\\frac{a-b}{c}\\right) ^ 2 $$"
      ]
    },
    {
      "cell_type": "code",
      "execution_count": null,
      "metadata": {
        "id": "35NzqYV8WTCM"
      },
      "outputs": [],
      "source": [
        "# Respuesta\n"
      ]
    },
    {
      "cell_type": "markdown",
      "metadata": {
        "id": "KpLmK4psWTCM"
      },
      "source": [
        "# 14. Investigue como se saca la raíz cuadrada de un número en Python y escriba la solución en el cuadro de abajo"
      ]
    },
    {
      "cell_type": "code",
      "execution_count": null,
      "metadata": {
        "id": "hmB61u9KWTCM"
      },
      "outputs": [],
      "source": [
        "# Respuesta\n"
      ]
    },
    {
      "cell_type": "markdown",
      "metadata": {
        "id": "uDskyR69WTCM"
      },
      "source": [
        "# 15.  Con lo anterior solicite 2 numeros (Cateto a y Cateto b) e imprima la hipotenusa.\n",
        "### Ejemplo:\n",
        "- ingreso: 3 (Cateto a)\n",
        "- ingreso: 4 (Cateto b)\n",
        "- imprime: Hipotenusa = 5"
      ]
    },
    {
      "cell_type": "code",
      "execution_count": null,
      "metadata": {
        "id": "TmahDtWwWTCM"
      },
      "outputs": [],
      "source": [
        "# Respuesta\n"
      ]
    },
    {
      "cell_type": "code",
      "execution_count": null,
      "metadata": {
        "id": "LIUNj3nmWTCM"
      },
      "outputs": [],
      "source": []
    }
  ],
  "metadata": {
    "kernelspec": {
      "display_name": "Python 3",
      "language": "python",
      "name": "python3"
    },
    "language_info": {
      "codemirror_mode": {
        "name": "ipython",
        "version": 3
      },
      "file_extension": ".py",
      "mimetype": "text/x-python",
      "name": "python",
      "nbconvert_exporter": "python",
      "pygments_lexer": "ipython3",
      "version": "3.8.5"
    },
    "colab": {
      "provenance": []
    }
  },
  "nbformat": 4,
  "nbformat_minor": 0
}