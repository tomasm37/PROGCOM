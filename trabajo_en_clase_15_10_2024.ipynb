{
  "nbformat": 4,
  "nbformat_minor": 0,
  "metadata": {
    "colab": {
      "provenance": [],
      "authorship_tag": "ABX9TyMzUwGwRkewHgz7QQS+8lH2",
      "include_colab_link": true
    },
    "kernelspec": {
      "name": "python3",
      "display_name": "Python 3"
    },
    "language_info": {
      "name": "python"
    }
  },
  "cells": [
    {
      "cell_type": "markdown",
      "metadata": {
        "id": "view-in-github",
        "colab_type": "text"
      },
      "source": [
        "<a href=\"https://colab.research.google.com/github/tomasm37/PROGCOM/blob/main/trabajo_en_clase_15_10_2024.ipynb\" target=\"_parent\"><img src=\"https://colab.research.google.com/assets/colab-badge.svg\" alt=\"Open In Colab\"/></a>"
      ]
    },
    {
      "cell_type": "code",
      "execution_count": null,
      "metadata": {
        "colab": {
          "base_uri": "https://localhost:8080/"
        },
        "id": "SDa_M44Tjjg5",
        "outputId": "210c7b6e-157c-43f0-ed1e-3a656fdec82a"
      },
      "outputs": [
        {
          "output_type": "stream",
          "name": "stdout",
          "text": [
            "Menú de Sabores:\n",
            "1. Vainilla: $5000 COP\n",
            "2. Chocolate: $2000 COP\n",
            "3. Fresa: $4000 COP\n",
            "\n",
            "Menú de Combos:\n",
            "1. Combo 1: Vainilla, Waffle, Fresas con crema - $30000 COP\n",
            "2. Combo 2: Chocolate, Waffle, Fresas con crema - $35000 COP\n",
            "3. Combo 3: Fresa, Waffle, Fresas con crema - $32000 COP\n"
          ]
        }
      ],
      "source": [
        "class Sabor:\n",
        "    def __init__(self, nombre, precio):\n",
        "        self.__nombre = nombre\n",
        "        self.__precio = precio\n",
        "\n",
        "    def obtener_datos(self):\n",
        "        return f\"{self.__nombre}: ${self.__precio} COP\"\n",
        "\n",
        "    def obtener_precio(self):\n",
        "        return self.__precio\n",
        "\n",
        "class Combo:\n",
        "    def __init__(self, nombre, productos, precio):\n",
        "        self.__nombre = nombre\n",
        "        self.__productos = productos\n",
        "        self.__precio = precio\n",
        "\n",
        "    def obtener_datos(self):\n",
        "        productos_str = \", \".join(self.__productos)\n",
        "        return f\"{self.__nombre}: {productos_str} - ${self.__precio} COP\"\n",
        "\n",
        "    def obtener_precio(self):\n",
        "        return self.__precio\n",
        "\n",
        "class Factura:\n",
        "    def __init__(self):\n",
        "        self.__items = []\n",
        "        self.__total = 0\n",
        "\n",
        "    def agregar_item(self, item):\n",
        "        self.__items.append(item)\n",
        "        self.__total += item.obtener_precio()\n",
        "\n",
        "    def mostrar_factura(self):\n",
        "        factura_str = \"Factura:\\n\"\n",
        "        for item in self.__items:\n",
        "            factura_str += f\"{item.obtener_datos()}\\n\"\n",
        "        factura_str += f\"Total a pagar: ${self.__total:.2f} COP\"\n",
        "        return factura_str\n",
        "sabores = [\n",
        "    Sabor(\"Vainilla\", 5000),\n",
        "    Sabor(\"Chocolate\", 2000),\n",
        "    Sabor(\"Fresa\", 4000)\n",
        "]\n",
        "combos = [\n",
        "    Combo(\"Combo 1\", [\"Vainilla\", \"Waffle\", \"Fresas con crema\"], 30000),\n",
        "    Combo(\"Combo 2\", [\"Chocolate\", \"Waffle\", \"Fresas con crema\"], 35000),\n",
        "    Combo(\"Combo 3\", [\"Fresa\", \"Waffle\", \"Fresas con crema\"], 32000)\n",
        "]\n",
        "\n",
        "# Mostrar menú de sabores\n",
        "print(\"Menú de Sabores:\")\n",
        "for i, sabor in enumerate(sabores):\n",
        "    print(f\"{i + 1}. {sabor.obtener_datos()}\")\n",
        "\n",
        "# Mostrar menú de combos\n",
        "print(\"\\nMenú de Combos:\")\n",
        "for i, combo in enumerate(combos):\n",
        "    print(f\"{i + 1}. {combo.obtener_datos()}\")\n",
        "\n",
        "# Crear la factura\n",
        "factura = Factura()\n",
        "\n",
        "# Solicitar selección del usuario para sabor\n",
        "sabor_seleccionado = None\n",
        "while sabor_seleccionado is None:\n",
        "    try:\n",
        "        seleccion_sabor = int(input(\"\\nSelecciona un sabor (1-3) o presiona 0 para pedir solo un combo: \"))\n",
        "        if seleccion_sabor == 0:\n",
        "            sabor_seleccionado = None\n",
        "            break\n",
        "        elif 1 <= seleccion_sabor <= 3:\n",
        "            sabor_seleccionado = sabores[seleccion_sabor - 1]\n",
        "            factura.agregar_item(sabor_seleccionado)  # Agregar el sabor a la factura\n",
        "        else:\n",
        "            print(\"Número inválido. Por favor, selecciona un número del 1 al 3.\")\n",
        "    except ValueError:\n",
        "        print(\"Entrada no válida. Por favor, ingresa un número.\")\n",
        "\n",
        "# Solicitar selección del usuario para combo\n",
        "combo_seleccionado = None\n",
        "while combo_seleccionado is None:\n",
        "    try:\n",
        "        seleccion_combo = int(input(\"Selecciona un combo (1-3) o presiona 0 para pedir solo un helado: \"))\n",
        "        if seleccion_combo == 0:\n",
        "            combo_seleccionado = None\n",
        "            break\n",
        "        elif 1 <= seleccion_combo <= 3:\n",
        "            combo_seleccionado = combos[seleccion_combo - 1]\n",
        "            factura.agregar_item(combo_seleccionado)  # Agregar el combo a la factura\n",
        "        else:\n",
        "            print(\"Número inválido. Por favor, selecciona un número del 1 al 3.\")\n",
        "    except ValueError:\n",
        "        print(\"Entrada no válida. Por favor, ingresa un número.\")\n",
        "\n",
        "# Mostrar la factura\n",
        "print(f\"\\n{factura.mostrar_factura()}\")"
      ]
    }
  ]
}