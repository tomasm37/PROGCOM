{
  "nbformat": 4,
  "nbformat_minor": 0,
  "metadata": {
    "colab": {
      "provenance": [],
      "toc_visible": true,
      "name": "Los del sur_decodificación_25-10-24",
      "include_colab_link": true
    },
    "kernelspec": {
      "name": "python3",
      "display_name": "Python 3"
    },
    "language_info": {
      "name": "python"
    }
  },
  "cells": [
    {
      "cell_type": "markdown",
      "metadata": {
        "id": "view-in-github",
        "colab_type": "text"
      },
      "source": [
        "<a href=\"https://colab.research.google.com/github/tomasm37/PROGCOM/blob/main/Los_del_sur_decodificaci%C3%B3n_25_10_24.ipynb\" target=\"_parent\"><img src=\"https://colab.research.google.com/assets/colab-badge.svg\" alt=\"Open In Colab\"/></a>"
      ]
    },
    {
      "cell_type": "code",
      "execution_count": null,
      "metadata": {
        "colab": {
          "base_uri": "https://localhost:8080/"
        },
        "id": "sdhwA9ScWjWg",
        "outputId": "9cb859c2-52b3-4127-8584-b8892d413708"
      },
      "outputs": [
        {
          "output_type": "stream",
          "name": "stdout",
          "text": [
            "¿Quieres que las vocales sin tilde se desplacen a la derecha o a la izquierda? derecha\n",
            "¿Quieres que las consonantes se desplacen a la derecha o a la izquierda? izquierda\n",
            "Ingresa el texto que deseas procesar: mamá\n",
            "Texto desplazado: liló\n"
          ]
        }
      ],
      "source": [
        "class DesplazadorDeLetras:\n",
        "    def __init__(self, direccion_vocal, direccion_consonante):\n",
        "        # Guardamos las direcciones de desplazamiento para vocales y consonantes\n",
        "        self.direccion_vocal = direccion_vocal\n",
        "        self.direccion_consonante = direccion_consonante\n",
        "\n",
        "        # Lista de vocales y consonantes en minúsculas\n",
        "        self.vocales = ['a', 'e', 'i', 'o', 'u']\n",
        "        self.vocales_tildes = ['á', 'é', 'í', 'ó', 'ú']\n",
        "        self.consonantes = [\n",
        "            'b', 'c', 'd', 'f', 'g', 'h', 'j', 'k', 'l', 'm', 'n', 'ñ',\n",
        "            'p', 'q', 'r', 's', 't', 'v', 'w', 'x', 'y', 'z'\n",
        "        ]\n",
        "\n",
        "    def desplazar_vocal(self, letra, es_mayuscula):\n",
        "        # Determina la dirección del desplazamiento: 2 a la derecha o a la izquierda\n",
        "        indice = self.vocales.index(letra.lower())\n",
        "        if self.direccion_vocal == \"derecha\":\n",
        "            nuevo_indice = (indice + 2) % len(self.vocales)\n",
        "        else:\n",
        "            nuevo_indice = (indice - 2) % len(self.vocales)\n",
        "        nueva_letra = self.vocales[nuevo_indice]\n",
        "        return nueva_letra.upper() if es_mayuscula else nueva_letra\n",
        "\n",
        "    def desplazar_vocal_tilde(self, letra, es_mayuscula):\n",
        "        # Las vocales con tilde siempre se desplazan 3 lugares a la derecha\n",
        "        indice = self.vocales_tildes.index(letra.lower())\n",
        "        nuevo_indice = (indice + 3) % len(self.vocales_tildes)\n",
        "        nueva_letra = self.vocales_tildes[nuevo_indice]\n",
        "        return nueva_letra.upper() if es_mayuscula else nueva_letra\n",
        "\n",
        "    def desplazar_consonante(self, letra, es_mayuscula):\n",
        "        # Determina la dirección del desplazamiento: 1 a la derecha o a la izquierda\n",
        "        indice = self.consonantes.index(letra.lower())\n",
        "        if self.direccion_consonante == \"derecha\":\n",
        "            nuevo_indice = (indice + 1) % len(self.consonantes)\n",
        "        else:\n",
        "            nuevo_indice = (indice - 1) % len(self.consonantes)\n",
        "        nueva_letra = self.consonantes[nuevo_indice]\n",
        "        return nueva_letra.upper() if es_mayuscula else nueva_letra\n",
        "\n",
        "    def desplazar_letra(self, letra):\n",
        "        # Verifica si es vocal, vocal con tilde o consonante, y aplica el desplazamiento\n",
        "        es_mayuscula = letra.isupper()\n",
        "        letra_base = letra.lower()\n",
        "\n",
        "        if letra_base in self.vocales:\n",
        "            return self.desplazar_vocal(letra_base, es_mayuscula)\n",
        "        elif letra_base in self.vocales_tildes:\n",
        "            return self.desplazar_vocal_tilde(letra_base, es_mayuscula)\n",
        "        elif letra_base in self.consonantes:\n",
        "            return self.desplazar_consonante(letra_base, es_mayuscula)\n",
        "        else:\n",
        "            return letra  # Si no es letra, devolver el carácter sin cambios\n",
        "\n",
        "    def procesar_texto(self, texto):\n",
        "        # Aplica el desplazamiento a cada letra del texto\n",
        "        return \"\".join([self.desplazar_letra(letra) for letra in texto])\n",
        "\n",
        "# Pedir al usuario que ingrese la dirección para vocales sin tilde y consonantes\n",
        "direccion_vocal = input(\"¿Quieres que las vocales sin tilde se desplacen a la derecha o a la izquierda? \").strip().lower()\n",
        "direccion_consonante = input(\"¿Quieres que las consonantes se desplacen a la derecha o a la izquierda? \").strip().lower()\n",
        "\n",
        "# Pedir al usuario que ingrese el texto\n",
        "texto = input(\"Ingresa el texto que deseas procesar: \")\n",
        "\n",
        "# Crear una instancia de la clase con las direcciones especificadas\n",
        "desplazador = DesplazadorDeLetras(direccion_vocal, direccion_consonante)\n",
        "texto_desplazado = desplazador.procesar_texto(texto)\n",
        "\n",
        "print(\"Texto desplazado:\", texto_desplazado)\n"
      ]
    }
  ]
}