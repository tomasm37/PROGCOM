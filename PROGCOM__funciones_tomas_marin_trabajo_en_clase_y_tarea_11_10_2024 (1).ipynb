{
  "nbformat": 4,
  "nbformat_minor": 0,
  "metadata": {
    "colab": {
      "provenance": []
    },
    "kernelspec": {
      "name": "python3",
      "display_name": "Python 3"
    },
    "language_info": {
      "name": "python"
    }
  },
  "cells": [
    {
      "cell_type": "markdown",
      "source": [
        "#Funciones\n",
        "Conjuntos de instruciones que permiten alcanzar pequeños objetivos\n",
        "1. Reutilizar codigo\n",
        "2. Simplificar el objetivo\n",
        "3. Facilitar la realizacion de pruebas\n",
        "\n",
        "Hay dos tipos: Anónima y funciones.\n",
        "\n",
        "##Anónimas\n",
        "No tienen nombre y se llaman de acuerdo a la variable asignada. Se emplea el identificador lambda. Se declara lambda (variable): operación.\n",
        "\n",
        "##Funciones\n",
        "Necesitan de la palabra def (nombre_de_la_función):"
      ],
      "metadata": {
        "id": "N5hLa6MLK7Vb"
      }
    },
    {
      "cell_type": "code",
      "source": [
        "#PROGRAMA QUE PERMITA CALCULAR LA SUMA, RESTA, MULTIPLICACIÓN Y DIVISIÓN ENTRE DOS NÚMEROS\n",
        "\n",
        "#1.Pedir los dos números:\n",
        "x=int(input(\"Ingrese un número:\" ))\n",
        "y=int(input(\"Ingrese un número:\" ))\n",
        "c=x+y\n",
        "print(f\"La suma de {x} + {y} = {c}\")\n",
        "c=x-y\n",
        "print(f\"La resta de {x} - {y} = {c}\")\n",
        "c=x*y\n",
        "print(f\"La multiplicación de {x} * {y} = {c}\")\n",
        "c=x/y\n",
        "print(f\"La división de {x} / {y} = {c}\")"
      ],
      "metadata": {
        "id": "kQWvF83_1uJS"
      },
      "execution_count": null,
      "outputs": []
    },
    {
      "cell_type": "code",
      "execution_count": 5,
      "metadata": {
        "id": "p7awC9HVKxVl"
      },
      "outputs": [],
      "source": [
        "def pedir_numeros():\n",
        "  x=int(input(\"Ingrese un número: \"))\n",
        "  y=int(input(\"Ingrese otro número:\"))\n",
        "  return x,y"
      ]
    },
    {
      "cell_type": "code",
      "source": [
        "a,b=pedir_numeros()"
      ],
      "metadata": {
        "colab": {
          "base_uri": "https://localhost:8080/"
        },
        "id": "eFZvZDpWWxMz",
        "outputId": "ae105640-2c1a-44bc-e23b-be4ce22d19fd"
      },
      "execution_count": 6,
      "outputs": [
        {
          "name": "stdout",
          "output_type": "stream",
          "text": [
            "Ingrese un número: 5\n",
            "Ingrese otro número:4\n"
          ]
        }
      ]
    },
    {
      "cell_type": "code",
      "source": [
        "def suma_v1(a,b)\n",
        "  return a+b"
      ],
      "metadata": {
        "id": "zxZs-lMCX_wG",
        "colab": {
          "base_uri": "https://localhost:8080/",
          "height": 106
        },
        "outputId": "0dc5829b-c7e7-47f2-9afe-c8a36bcc3a48"
      },
      "execution_count": 7,
      "outputs": [
        {
          "output_type": "error",
          "ename": "SyntaxError",
          "evalue": "expected ':' (<ipython-input-7-f2f129fd0597>, line 1)",
          "traceback": [
            "\u001b[0;36m  File \u001b[0;32m\"<ipython-input-7-f2f129fd0597>\"\u001b[0;36m, line \u001b[0;32m1\u001b[0m\n\u001b[0;31m    def suma_v1(a,b)\u001b[0m\n\u001b[0m                    ^\u001b[0m\n\u001b[0;31mSyntaxError\u001b[0m\u001b[0;31m:\u001b[0m expected ':'\n"
          ]
        }
      ]
    },
    {
      "cell_type": "code",
      "source": [
        "suma_v1(x,y)\n"
      ],
      "metadata": {
        "id": "gTjLHs_FYJuF"
      },
      "execution_count": null,
      "outputs": []
    },
    {
      "cell_type": "code",
      "source": [
        "suma=lambda a,b:a+b"
      ],
      "metadata": {
        "id": "WDdakP5QYR3f"
      },
      "execution_count": null,
      "outputs": []
    },
    {
      "cell_type": "code",
      "source": [
        "suma(a,b)"
      ],
      "metadata": {
        "id": "tzCEcmBCYapM"
      },
      "execution_count": null,
      "outputs": []
    },
    {
      "cell_type": "code",
      "source": [
        "suma(x,y)"
      ],
      "metadata": {
        "id": "uHwdMyQ3Yf3c"
      },
      "execution_count": null,
      "outputs": []
    },
    {
      "cell_type": "code",
      "source": [
        "def suma(x, y):\n",
        "    return x + y\n",
        "\n",
        "def resta(x, y):\n",
        "    return x - y\n",
        "\n",
        "def multiplicacion(x, y):\n",
        "    return x * y\n",
        "\n",
        "def division(x, y):\n",
        "    if y == 0:\n",
        "        return \"Error: No se puede dividir por cero\"\n",
        "    else:\n",
        "        return x / y\n",
        "\n",
        "def pedir_numeros():\n",
        "    num1 = float(input(\"Ingresa el primer número: \"))\n",
        "    num2 = float(input(\"Ingresa el segundo número: \"))\n",
        "    return num1, num2\n",
        "\n",
        "def menu():\n",
        "    print(\"\\n--- Menú de operaciones ---\")\n",
        "    print(\"1. Suma\")\n",
        "    print(\"2. Resta\")\n",
        "    print(\"3. Multiplicación\")\n",
        "    print(\"4. División\")\n",
        "    print(\"5. Salir\")\n",
        "\n",
        "def calculadora():\n",
        "    menu()\n",
        "    opcion = input(\"Elige una operación (1/2/3/4): \")\n",
        "\n",
        "    if opcion in ['1', '2', '3', '4']:\n",
        "        num1, num2 = pedir_numeros()\n",
        "\n",
        "        if opcion == '1':\n",
        "            print(f\"La suma de {num1} + {num2} = {suma(num1, num2)}\")\n",
        "        elif opcion == '2':\n",
        "            print(f\"La resta de {num1} - {num2} = {resta(num1, num2)}\")\n",
        "        elif opcion == '3':\n",
        "            print(f\"La multiplicación de {num1} * {num2} = {multiplicacion(num1, num2)}\")\n",
        "        elif opcion == '4':\n",
        "            resultado_division = division(num1, num2)\n",
        "            if resultado_division == \"Error: No se puede dividir por cero\":\n",
        "                print(resultado_division)\n",
        "            else:\n",
        "                print(f\"La división de {num1} / {num2} = {resultado_division}\")\n",
        "    else:\n",
        "        print(\"Opción inválida. El programa finalizará.\")\n",
        "\n",
        "calculadora()\n",
        "print(\"Programa finalizado.\")"
      ],
      "metadata": {
        "colab": {
          "base_uri": "https://localhost:8080/"
        },
        "id": "-zN_hjC_aa62",
        "outputId": "3132a12f-d774-48a0-b2a5-363e5a77347c"
      },
      "execution_count": 8,
      "outputs": [
        {
          "output_type": "stream",
          "name": "stdout",
          "text": [
            "\n",
            "--- Menú de operaciones ---\n",
            "1. Suma\n",
            "2. Resta\n",
            "3. Multiplicación\n",
            "4. División\n",
            "5. Salir\n",
            "Elige una operación (1/2/3/4): 4\n",
            "Ingresa el primer número: 4\n",
            "Ingresa el segundo número: 5\n",
            "La división de 4.0 / 5.0 = 0.8\n",
            "Programa finalizado.\n"
          ]
        }
      ]
    },
    {
      "cell_type": "markdown",
      "source": [
        "#trabajo tarea"
      ],
      "metadata": {
        "id": "-9PMFqCj5M7U"
      }
    },
    {
      "cell_type": "code",
      "source": [
        "import random\n",
        "\n",
        "# Función que genera la pregunta según el tipo de operación\n",
        "def generar_pregunta(tipo):\n",
        "    if tipo == 'suma':\n",
        "        a, b = random.randint(1, 10), random.randint(1, 10)\n",
        "        return f\"{a} + {b} =\", a + b\n",
        "    elif tipo == 'resta':\n",
        "        a, b = random.randint(1, 10), random.randint(1, 10)\n",
        "        return f\"{a} - {b} =\", a - b\n",
        "    elif tipo == 'multiplicacion':\n",
        "        a, b = random.randint(1, 10), random.randint(1, 10)\n",
        "        return f\"{a} * {b} =\", a * b\n",
        "    elif tipo == 'division':\n",
        "        b = random.randint(1, 10)\n",
        "        a = b * random.randint(1, 10)  # Para asegurarnos que sea divisible\n",
        "        return f\"{a} / {b} =\", a // b\n",
        "\n",
        "# Función que permite elegir operaciones hasta 4, con opción 5 para terminar antes\n",
        "def elegir_operaciones():\n",
        "    operaciones_disponibles = {\n",
        "        '1': 'suma',\n",
        "        '2': 'resta',\n",
        "        '3': 'multiplicacion',\n",
        "        '4': 'division'\n",
        "    }\n",
        "    operaciones_elegidas = []\n",
        "\n",
        "    print(\"Elige hasta 4 operaciones:\")\n",
        "    print(\"1. Suma\")\n",
        "    print(\"2. Resta\")\n",
        "    print(\"3. Multiplicación\")\n",
        "    print(\"4. División\")\n",
        "    print(\"5. Terminar selección\")\n",
        "\n",
        "    while len(operaciones_elegidas) < 4:\n",
        "        opciones_restantes = [key for key in operaciones_disponibles if operaciones_disponibles[key] not in operaciones_elegidas]\n",
        "\n",
        "        if not opciones_restantes:  # Si ya se eligieron todas las opciones\n",
        "            print(\"Ya has seleccionado todas las operaciones.\")\n",
        "            break\n",
        "\n",
        "        tipo = input(f\"Elige una operación (opciones disponibles {', '.join(opciones_restantes)} o '5' para terminar): \").strip()\n",
        "\n",
        "        if tipo in operaciones_disponibles and operaciones_disponibles[tipo] not in operaciones_elegidas:\n",
        "            operaciones_elegidas.append(operaciones_disponibles[tipo])\n",
        "            print(f\"Has elegido {operaciones_disponibles[tipo]}.\")\n",
        "        elif tipo == '5':\n",
        "            if len(operaciones_elegidas) > 0:\n",
        "                print(\"Terminaste la selección.\")\n",
        "                break\n",
        "            else:\n",
        "                print(\"Debes elegir al menos una operación antes de terminar.\")\n",
        "        else:\n",
        "            print(\"Opción no válida o ya seleccionada. Inténtalo de nuevo.\")\n",
        "\n",
        "    return operaciones_elegidas\n",
        "\n",
        "# Función para realizar el juego con respuestas únicas\n",
        "def jugar():\n",
        "    print(\"Bienvenido al juego de matemáticas.\")\n",
        "    operaciones = elegir_operaciones()\n",
        "\n",
        "    if not operaciones:\n",
        "        print(\"No has elegido ninguna operación. Saliendo del juego.\")\n",
        "        return\n",
        "\n",
        "    # Ciclo principal de juego\n",
        "    while True:\n",
        "        correctas = 0\n",
        "        respuestas_usadas = set()  # Conjunto para almacenar respuestas ya dadas\n",
        "\n",
        "        while correctas < 10:\n",
        "            tipo = random.choice(operaciones)\n",
        "\n",
        "            # Generar una pregunta cuya respuesta no se haya usado antes\n",
        "            while True:\n",
        "                pregunta, respuesta = generar_pregunta(tipo)\n",
        "                if respuesta not in respuestas_usadas:\n",
        "                    respuestas_usadas.add(respuesta)\n",
        "                    break  # Si es una respuesta única, salir del bucle\n",
        "\n",
        "            user_answer = input(f\"¿Cuánto es {pregunta} \")\n",
        "\n",
        "            try:\n",
        "                if int(user_answer) == respuesta:\n",
        "                    correctas += 1\n",
        "                    print(f\"¡Correcto! ({correctas}/10)\")\n",
        "                else:\n",
        "                    print(f\"Incorrecto. La respuesta era {respuesta}.\")\n",
        "                    print(\"Te equivocaste. Empezamos nuevamente con otras 10 preguntas.\")\n",
        "                    correctas = 0  # Reiniciar el contador si hay un error\n",
        "                    respuestas_usadas.clear()  # Limpiar las respuestas usadas al reiniciar\n",
        "                    break  # Terminar esta serie de preguntas y empezar de nuevo\n",
        "            except ValueError:\n",
        "                print(\"Por favor, ingresa un número válido.\")\n",
        "\n",
        "        if correctas == 10:\n",
        "            print(\"¡Felicidades! Has respondido 10 preguntas correctamente.\")\n",
        "            break\n",
        "\n",
        "# Para iniciar el juego, descomenta la línea siguiente\n",
        "# jugar()\n"
      ],
      "metadata": {
        "id": "axyX9zse3inP"
      },
      "execution_count": 34,
      "outputs": []
    },
    {
      "cell_type": "code",
      "source": [
        "jugar()\n"
      ],
      "metadata": {
        "colab": {
          "base_uri": "https://localhost:8080/"
        },
        "id": "-eLQIuPj5eqd",
        "outputId": "8d2253bc-61d9-406e-ed20-b7f3bc6bdb43"
      },
      "execution_count": 35,
      "outputs": [
        {
          "output_type": "stream",
          "name": "stdout",
          "text": [
            "Bienvenido al juego de matemáticas.\n",
            "Elige hasta 4 operaciones:\n",
            "1. Suma\n",
            "2. Resta\n",
            "3. Multiplicación\n",
            "4. División\n",
            "5. Terminar selección\n",
            "Elige una operación (opciones disponibles 1, 2, 3, 4 o '5' para terminar): 1\n",
            "Has elegido suma.\n",
            "Elige una operación (opciones disponibles 2, 3, 4 o '5' para terminar): 2\n",
            "Has elegido resta.\n",
            "Elige una operación (opciones disponibles 3, 4 o '5' para terminar): 3\n",
            "Has elegido multiplicacion.\n",
            "Elige una operación (opciones disponibles 4 o '5' para terminar): 4\n",
            "Has elegido division.\n",
            "¿Cuánto es 30 / 5 = 6\n",
            "¡Correcto! (1/10)\n",
            "¿Cuánto es 3 * 1 = 3\n",
            "¡Correcto! (2/10)\n",
            "¿Cuánto es 10 * 2 = 20\n",
            "¡Correcto! (3/10)\n",
            "¿Cuánto es 8 + 3 = 11\n",
            "¡Correcto! (4/10)\n",
            "¿Cuánto es 5 + 10 = 15\n",
            "¡Correcto! (5/10)\n",
            "¿Cuánto es 1 - 3 = -2\n",
            "¡Correcto! (6/10)\n",
            "¿Cuánto es 1 * 10 = 10\n",
            "¡Correcto! (7/10)\n",
            "¿Cuánto es 6 * 7 = 42\n",
            "¡Correcto! (8/10)\n",
            "¿Cuánto es 3 + 2 = 5\n",
            "¡Correcto! (9/10)\n",
            "¿Cuánto es 7 - 8 = -1\n",
            "¡Correcto! (10/10)\n",
            "¡Felicidades! Has respondido 10 preguntas correctamente.\n"
          ]
        }
      ]
    }
  ]
}