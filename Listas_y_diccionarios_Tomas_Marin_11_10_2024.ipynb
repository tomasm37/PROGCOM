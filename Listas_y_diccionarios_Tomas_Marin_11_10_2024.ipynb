{
  "nbformat": 4,
  "nbformat_minor": 0,
  "metadata": {
    "colab": {
      "provenance": []
    },
    "kernelspec": {
      "name": "python3",
      "display_name": "Python 3"
    },
    "language_info": {
      "name": "python"
    }
  },
  "cells": [
    {
      "cell_type": "markdown",
      "source": [
        "#Breve definición de listas"
      ],
      "metadata": {
        "id": "W7KPcY05mEfU"
      }
    },
    {
      "cell_type": "code",
      "execution_count": null,
      "metadata": {
        "colab": {
          "base_uri": "https://localhost:8080/",
          "height": 106
        },
        "id": "LnMg_0xals4-",
        "outputId": "28c8c9ad-798e-4b24-d082-4e2effc06b53"
      },
      "outputs": [
        {
          "output_type": "error",
          "ename": "SyntaxError",
          "evalue": "invalid syntax (<ipython-input-1-ff5cf4a6e9b9>, line 1)",
          "traceback": [
            "\u001b[0;36m  File \u001b[0;32m\"<ipython-input-1-ff5cf4a6e9b9>\"\u001b[0;36m, line \u001b[0;32m1\u001b[0m\n\u001b[0;31m    lista1=\u001b[0m\n\u001b[0m           ^\u001b[0m\n\u001b[0;31mSyntaxError\u001b[0m\u001b[0;31m:\u001b[0m invalid syntax\n"
          ]
        }
      ],
      "source": [
        "# Listas iniciales\n",
        "lista1 = [7,6,3,28,6,79]  # fecha de cumpleaños propia+familiar\n",
        "lista2 = [\"tomas\", \"marin\", \"bustamante\", \"lina\", \"eucaris\", \"bustamante\", \"monsalve\"]\n",
        "\n",
        "# 1. append(): Agregar una fecha de nacimiento al final (ejemplo: 28 de junio)\n",
        "lista1.append(28)  # Agregando el día de nacimiento\n",
        "print(\"Después de append:\", lista1)\n",
        "\n",
        "# 2. extend(): Agregar más nombres (ejemplo: \"tomas\" y \"Lina\")\n",
        "lista2.extend([\"tomas\", \"Lina\"])\n",
        "print(\"Después de extend:\", lista2)\n",
        "\n",
        "# 3. insert(): Insertar un nuevo nombre en una posición específica\n",
        "lista2.insert(2, \"tomas\")\n",
        "print(\"Después de insert:\", lista2)\n",
        "\n",
        "# 4. remove(): Eliminar una ocurrencia de un nombre\n",
        "lista2.remove(\"bustamante\")\n",
        "print(\"Después de remove:\", lista2)\n",
        "\n",
        "# 5. pop(): Eliminar y devolver el último elemento\n",
        "ultimo = lista2.pop()\n",
        "print(\"Elemento eliminado con pop:\", ultimo)\n",
        "print(\"Después de pop:\", lista2)\n",
        "\n",
        "# 6. index(): Obtener el índice de un nombre\n",
        "indice = lista2.index(\"marin\")\n",
        "print(\"Índice de 'marin':\", indice)\n",
        "\n",
        "# 7. count(): Contar cuántas veces aparece un nombre\n",
        "cuenta = lista2.count(\"bustamante\")\n",
        "print(\"Número de veces que aparece 'bustamante':\", cuenta)\n",
        "\n",
        "# 8. sort(): Ordenar los nombres alfabéticamente\n",
        "lista2.sort()\n",
        "print(\"Después de sort:\", lista2)\n",
        "\n",
        "# 9. reverse(): Invertir el orden de los nombres\n",
        "lista2.reverse()\n",
        "print(\"Después de reverse:\", lista2)\n",
        "\n",
        "# 10. clear(): Eliminar todos los elementos de la lista de nombres\n",
        "lista2.clear()\n",
        "print(\"Después de clear:\", lista2)\n",
        "\n"
      ]
    },
    {
      "cell_type": "markdown",
      "source": [
        "#breve definición de diccionario\n",
        "\n"
      ],
      "metadata": {
        "id": "mP9rXOSLohR1"
      }
    },
    {
      "cell_type": "code",
      "source": [
        "dict1={\"nombre\":\"tomas\",\"apellido1\":\"marin\",\"apellido2\":\"bustamante\"}\n",
        "dict2={\"dia\":7,\"mes\":6,\"año\":2003}\n"
      ],
      "metadata": {
        "id": "dtf90KLrnYzH"
      },
      "execution_count": null,
      "outputs": []
    },
    {
      "cell_type": "markdown",
      "source": [
        "#Ejercicios listas\n"
      ],
      "metadata": {
        "id": "JsDoTMf_w2Cm"
      }
    },
    {
      "cell_type": "markdown",
      "source": [
        "##Ejercicio 1\n",
        "Dada la lista: list1 = [100, 200, 300, 400, 500], se desea que imprima [500, 400, 300, 200, 100]"
      ],
      "metadata": {
        "id": "Rpqti4CYw8WH"
      }
    },
    {
      "cell_type": "code",
      "source": [
        "list1 = [100, 200, 300, 400, 500]\n",
        "print(list1[::-1])\n"
      ],
      "metadata": {
        "colab": {
          "base_uri": "https://localhost:8080/"
        },
        "id": "VDi8ePvlwyZ9",
        "outputId": "805221ab-2e63-41f2-f766-6d498d02d6e8"
      },
      "execution_count": null,
      "outputs": [
        {
          "output_type": "stream",
          "name": "stdout",
          "text": [
            "[500, 400, 300, 200, 100]\n"
          ]
        }
      ]
    },
    {
      "cell_type": "markdown",
      "source": [
        "##Ejercicio 2\n",
        "Escriba un programa que unas dos listas, de tal forma que\n",
        "lista1 = [\"M\", \"nom\", \"e\", \"e\"]\n",
        "lista2 = [\"i\", \"bre\", \"s\", “quis\"]\n",
        "da como resultado ['Mi', 'nombre', 'es', 'equis'] (reemplazar el nombre por el del estudiante)"
      ],
      "metadata": {
        "id": "iJF4YizCxcHB"
      }
    },
    {
      "cell_type": "code",
      "source": [
        "lista1 = [\"M\", \"nom\", \"e\", \"e\"]\n",
        "lista2 = [\"i\", \"bre\", \"s\", \"quis\"]\n",
        "resultado = [''.join(x) for x in zip(lista1, lista2)]\n",
        "print(resultado)\n"
      ],
      "metadata": {
        "colab": {
          "base_uri": "https://localhost:8080/"
        },
        "id": "rLdKuUbxxbMS",
        "outputId": "bcd7a410-51c0-4b2b-e8e6-a370d0915954"
      },
      "execution_count": null,
      "outputs": [
        {
          "output_type": "stream",
          "name": "stdout",
          "text": [
            "['Mi', 'nombre', 'es', 'equis']\n"
          ]
        }
      ]
    },
    {
      "cell_type": "markdown",
      "source": [
        "##Ejercicio 3\n",
        "Desarrolle un programa que calcule el doble de cada uno de los elementos de una lista. Ejemplo: si la lista es [1, 2, 3, 4, 5, 6, 7] da como resultado [1, 4, 9, 16, 25, 36, 49]."
      ],
      "metadata": {
        "id": "gUqhf8N4x0CS"
      }
    },
    {
      "cell_type": "code",
      "source": [
        "lista = [1, 2, 3, 4, 5, 6, 7]\n",
        "resultado = [x**2 for x in lista]\n",
        "print(resultado)\n"
      ],
      "metadata": {
        "colab": {
          "base_uri": "https://localhost:8080/"
        },
        "id": "1jOHNu7Ux_ZI",
        "outputId": "b39df52e-a847-4c00-9e34-ac23dd575dde"
      },
      "execution_count": null,
      "outputs": [
        {
          "output_type": "stream",
          "name": "stdout",
          "text": [
            "[1, 4, 9, 16, 25, 36, 49]\n"
          ]
        }
      ]
    },
    {
      "cell_type": "markdown",
      "source": [
        "##Ejecicio 4\n",
        "Dadas dos listas\n",
        "a. lista1 = [\"Hola \", \"toma \"]\n",
        "b. lista2 = [\"Querido\", \"Señor\"]\n",
        "desarrollar un programe que de como resultado [“Hola Querido”, “Hola Señor”, 'toma Querido”, 'toma Señor']"
      ],
      "metadata": {
        "id": "-nE8pGLbyJmR"
      }
    },
    {
      "cell_type": "code",
      "source": [
        "lista1 = [\"Hola \", \"toma \"]\n",
        "lista2 = [\"Querido\", \"Señor\"]\n",
        "resultado = [f\"{a}{b}\" for a in lista1 for b in lista2]\n",
        "print(resultado)\n"
      ],
      "metadata": {
        "colab": {
          "base_uri": "https://localhost:8080/"
        },
        "id": "4Gg7qDoIyX5T",
        "outputId": "d007a9f2-4b27-4605-819b-8631c05af322"
      },
      "execution_count": null,
      "outputs": [
        {
          "output_type": "stream",
          "name": "stdout",
          "text": [
            "['Hola Querido', 'Hola Señor', 'toma Querido', 'toma Señor']\n"
          ]
        }
      ]
    },
    {
      "cell_type": "markdown",
      "source": [
        "##Ejercicio 5\n",
        "Dadas dos listas\n",
        "list1 = [10, 20, 30, 40]\n",
        "list2 = [100, 200, 300, 400]\n",
        "se desea construir un programa que imprima\n",
        "10 400\n",
        "20 300\n",
        "30 200\n",
        "40 100"
      ],
      "metadata": {
        "id": "sMbVcU0gyjjh"
      }
    },
    {
      "cell_type": "code",
      "source": [
        "list1 = [10, 20, 30, 40]\n",
        "list2 = [100, 200, 300, 400]\n",
        "for a, b in zip(list1, reversed(list2)):\n",
        "    print(a, b)\n"
      ],
      "metadata": {
        "colab": {
          "base_uri": "https://localhost:8080/"
        },
        "id": "8ZjgvD28yjIZ",
        "outputId": "a04086e0-9a88-4c27-e578-2828c51d2f35"
      },
      "execution_count": null,
      "outputs": [
        {
          "output_type": "stream",
          "name": "stdout",
          "text": [
            "10 400\n",
            "20 300\n",
            "30 200\n",
            "40 100\n"
          ]
        }
      ]
    },
    {
      "cell_type": "markdown",
      "source": [
        "##Ejercicio 6\n",
        "Dada la lista [\"Mike\", \"\", \"Emma\", \"Kelly\", \"\", \"Brad\"] se desea un programa que elimine el elemento vacío"
      ],
      "metadata": {
        "id": "WXakzBnuy1mf"
      }
    },
    {
      "cell_type": "code",
      "source": [
        "lista = [\"Mike\", \"\", \"Emma\", \"Kelly\", \"\", \"Brad\"]\n",
        "resultado = [x for x in lista if x]\n",
        "print(resultado)\n"
      ],
      "metadata": {
        "colab": {
          "base_uri": "https://localhost:8080/"
        },
        "id": "qkbApiwcy1PI",
        "outputId": "004c014d-07cd-40fb-f567-5270098b83f7"
      },
      "execution_count": null,
      "outputs": [
        {
          "output_type": "stream",
          "name": "stdout",
          "text": [
            "['Mike', 'Emma', 'Kelly', 'Brad']\n"
          ]
        }
      ]
    },
    {
      "cell_type": "markdown",
      "source": [
        "##Ejercicio 7\n",
        "Dada la lista [10, 20, [300, 400, [5000, 6000], 500], 30, 40] se desea un programa que genere el siguiente resultado: [10, 20, [300, 400, [5000, 6000, 7000], 500], 30, 40]"
      ],
      "metadata": {
        "id": "SEF25ST8zLLw"
      }
    },
    {
      "cell_type": "code",
      "source": [
        "lista = [10, 20, [300, 400, [5000, 6000], 500], 30, 40]\n",
        "lista[2][2].append(7000)\n",
        "print(lista)\n"
      ],
      "metadata": {
        "colab": {
          "base_uri": "https://localhost:8080/"
        },
        "id": "QmlsBdERzT8G",
        "outputId": "51a665a8-04ee-46b3-9445-7ccfc99b8fae"
      },
      "execution_count": null,
      "outputs": [
        {
          "output_type": "stream",
          "name": "stdout",
          "text": [
            "[10, 20, [300, 400, [5000, 6000, 7000], 500], 30, 40]\n"
          ]
        }
      ]
    },
    {
      "cell_type": "markdown",
      "source": [
        "##Ejercicio 8\n",
        "Dada dos listas\n",
        "lista1= [\"a\", \"b\", [\"c\", [\"d\", \"e\", [\"f\", \"g\"], \"k\"], \"l\"], \"m\", \"n\"]\n",
        "lista 2= [\"h\", \"i\", \"j\"]\n",
        "se desea un programa que imprima lo siguiente:\n",
        "['a', 'b', ['c', ['d', 'e', ['f', 'g', 'h', 'i', 'j'], 'k'], 'l'], 'm', 'n']"
      ],
      "metadata": {
        "id": "YBudQDLmzcgc"
      }
    },
    {
      "cell_type": "code",
      "source": [
        "lista1 = [\"a\", \"b\", [\"c\", [\"d\", \"e\", [\"f\", \"g\"], \"k\"], \"l\"], \"m\", \"n\"]\n",
        "lista2 = [\"h\", \"i\", \"j\"]\n",
        "lista1[2][1][2].extend(lista2)\n",
        "print(lista1)\n"
      ],
      "metadata": {
        "colab": {
          "base_uri": "https://localhost:8080/"
        },
        "id": "KuF-TIFEzbyW",
        "outputId": "46bd6194-874b-445d-86ed-99da4bf6d719"
      },
      "execution_count": null,
      "outputs": [
        {
          "output_type": "stream",
          "name": "stdout",
          "text": [
            "['a', 'b', ['c', ['d', 'e', ['f', 'g', 'h', 'i', 'j'], 'k'], 'l'], 'm', 'n']\n"
          ]
        }
      ]
    },
    {
      "cell_type": "markdown",
      "source": [
        "##Ejercicio 9\n",
        "Dada la lista [5, 10, 15, 20, 25, 50, 20] se desea un programa que reemplace el número de la mitad por 200."
      ],
      "metadata": {
        "id": "i0AUlw8dz003"
      }
    },
    {
      "cell_type": "code",
      "source": [
        "lista = [5, 10, 15, 20, 25, 50, 20]\n",
        "mitad = len(lista) // 2\n",
        "lista[mitad] = 200\n",
        "print(lista)\n"
      ],
      "metadata": {
        "colab": {
          "base_uri": "https://localhost:8080/"
        },
        "id": "E4x_yngb0AMG",
        "outputId": "d382c8f2-74ac-4155-fc88-e558f283cf91"
      },
      "execution_count": null,
      "outputs": [
        {
          "output_type": "stream",
          "name": "stdout",
          "text": [
            "[5, 10, 15, 200, 25, 50, 20]\n"
          ]
        }
      ]
    },
    {
      "cell_type": "markdown",
      "source": [
        "##Ejercicio 10\n",
        "Construya un programa que elimine de una lista todos los duplicados. Ejemplo, si se tiene una lista [5, 20, 15, 20, 25, 50, 20] imprime [5, 15, 25, 50]"
      ],
      "metadata": {
        "id": "PiWakZS06Q3i"
      }
    },
    {
      "cell_type": "code",
      "source": [
        "lista = [5, 20, 15, 20, 25, 50, 20]\n",
        "resultado = list(set(lista))\n",
        "print(resultado)\n"
      ],
      "metadata": {
        "colab": {
          "base_uri": "https://localhost:8080/"
        },
        "id": "6Cit4Qac6Zty",
        "outputId": "54ae9137-7c39-4314-bc27-576df92b2ebb"
      },
      "execution_count": null,
      "outputs": [
        {
          "output_type": "stream",
          "name": "stdout",
          "text": [
            "[5, 15, 50, 20, 25]\n"
          ]
        }
      ]
    },
    {
      "cell_type": "markdown",
      "source": [
        "##Ejercicio 11\n",
        "Construya una programa que cuente cuántas veces se repitan los elementos de una lista. Ejemplo, si se tiene una lista [5, 20, 15, 20, 25, 50, 20] imprima:\n",
        "5 = 1\n",
        "20 = 3\n",
        "15 = 1\n",
        "25= 1\n",
        "50 = 1"
      ],
      "metadata": {
        "id": "S2e2ZKsP6gLx"
      }
    },
    {
      "cell_type": "code",
      "source": [
        "from collections import Counter\n",
        "\n",
        "lista = [5, 20, 15, 20, 25, 50, 20]\n",
        "contador = Counter(lista)\n",
        "for elemento, cantidad in contador.items():\n",
        "    print(f\"{elemento} = {cantidad}\")\n"
      ],
      "metadata": {
        "colab": {
          "base_uri": "https://localhost:8080/"
        },
        "id": "mvFpyOKu60ZB",
        "outputId": "21dae01a-4979-44c7-e3f1-91d378a4dc14"
      },
      "execution_count": null,
      "outputs": [
        {
          "output_type": "stream",
          "name": "stdout",
          "text": [
            "5 = 1\n",
            "20 = 3\n",
            "15 = 1\n",
            "25 = 1\n",
            "50 = 1\n"
          ]
        }
      ]
    },
    {
      "cell_type": "markdown",
      "source": [
        "##Ejercicio 12\n",
        "Construya un programa que ordene los elementos de una lista de menor a mayor o viceversa."
      ],
      "metadata": {
        "id": "deFS4oyA6_Zg"
      }
    },
    {
      "cell_type": "code",
      "source": [
        "lista = [5, 2, 9, 1, 5, 6]\n",
        "lista.sort()  # Ordenar de menor a mayor\n",
        "print(lista)  # [1, 2, 5, 5, 6, 9]\n",
        "\n",
        "# Para ordenar de mayor a menor\n",
        "lista.sort(reverse=True)\n",
        "print(lista)  # [9, 6, 5, 5, 2, 1]\n"
      ],
      "metadata": {
        "colab": {
          "base_uri": "https://localhost:8080/"
        },
        "id": "WcnnXlSg6f8S",
        "outputId": "02c8f522-7fab-421b-f1e1-61bc9d2ae805"
      },
      "execution_count": null,
      "outputs": [
        {
          "output_type": "stream",
          "name": "stdout",
          "text": [
            "[1, 2, 5, 5, 6, 9]\n",
            "[9, 6, 5, 5, 2, 1]\n"
          ]
        }
      ]
    },
    {
      "cell_type": "markdown",
      "source": [
        "##Ejercicio 13\n",
        "Escriba un programa en Python que le permita al usuario obtener de una lista:\n",
        "a. La suma de todos sus elementos\n",
        "b. La multiplicación de todos sus elementos\n",
        "c. El número mayor\n",
        "d. El número menor"
      ],
      "metadata": {
        "id": "pL-0M0Ij7OeX"
      }
    },
    {
      "cell_type": "code",
      "source": [
        "lista = [1, 2, 3, 4, 5]\n",
        "\n",
        "suma = sum(lista)\n",
        "multiplicacion = 1\n",
        "for num in lista:\n",
        "    multiplicacion *= num\n",
        "mayor = max(lista)\n",
        "menor = min(lista)\n",
        "\n",
        "print(\"Suma:\", suma)\n",
        "print(\"Multiplicación:\", multiplicacion)\n",
        "print(\"Mayor:\", mayor)\n",
        "print(\"Menor:\", menor)\n"
      ],
      "metadata": {
        "colab": {
          "base_uri": "https://localhost:8080/"
        },
        "id": "egLNAVvb7OJg",
        "outputId": "c2a63e1d-55dd-4631-94d4-26566d4cb4d0"
      },
      "execution_count": null,
      "outputs": [
        {
          "output_type": "stream",
          "name": "stdout",
          "text": [
            "Suma: 15\n",
            "Multiplicación: 120\n",
            "Mayor: 5\n",
            "Menor: 1\n"
          ]
        }
      ]
    },
    {
      "cell_type": "markdown",
      "source": [
        "##Ejercicio 14\n",
        "Escriba un programa que calcule la diferencia entre dos listas."
      ],
      "metadata": {
        "id": "b5H9K4JE7qiX"
      }
    },
    {
      "cell_type": "code",
      "source": [
        "lista1 = [1, 2, 3, 4]\n",
        "lista2 = [4, 3, 2, 1]\n",
        "diferencia = [a - b for a, b in zip(lista1, lista2)]\n",
        "print(diferencia)  # [-3, -1, 1, 3]\n"
      ],
      "metadata": {
        "colab": {
          "base_uri": "https://localhost:8080/"
        },
        "id": "HAmo7zaS7qQw",
        "outputId": "756a1f1b-f7e9-4854-bba3-fd7b954d3c68"
      },
      "execution_count": null,
      "outputs": [
        {
          "output_type": "stream",
          "name": "stdout",
          "text": [
            "[-3, -1, 1, 3]\n"
          ]
        }
      ]
    },
    {
      "cell_type": "markdown",
      "source": [
        "##Ejercicio 15\n",
        "Escriba un programa que permita identificar el segundo y tercer elemento menor de una lista de 10 elementos."
      ],
      "metadata": {
        "id": "o5DSK4zA714Z"
      }
    },
    {
      "cell_type": "code",
      "source": [
        "lista = [9, 1, 3, 7, 5, 2, 8, 6, 4, 0]\n",
        "lista_unica = list(set(lista))\n",
        "lista_unica.sort()\n",
        "segundo_menor = lista_unica[1]\n",
        "tercer_menor = lista_unica[2]\n",
        "print(\"Segundo menor:\", segundo_menor)\n",
        "print(\"Tercer menor:\", tercer_menor)\n"
      ],
      "metadata": {
        "colab": {
          "base_uri": "https://localhost:8080/"
        },
        "id": "Et13zJkN7-Gy",
        "outputId": "023379cc-4571-4266-8a0b-2013953ccea5"
      },
      "execution_count": null,
      "outputs": [
        {
          "output_type": "stream",
          "name": "stdout",
          "text": [
            "Segundo menor: 1\n",
            "Tercer menor: 2\n"
          ]
        }
      ]
    },
    {
      "cell_type": "markdown",
      "source": [
        "##Ejercicio 16\n",
        "Crear un programa que cree múltiples listas de una lista principal, de tal forma que:\n",
        "a. La primera lista es la suma del segundo elemento con el primero.\n",
        "b. La segunda lista es la resta del segundo elemento con el primero. Si el\n",
        "número da negativo, se reemplaza con 0.\n",
        "c. La tercera lista multiplica cada uno de los elementos *2\n",
        "d. La cuarta lista eleva cada uno de los elementos al cuadrado.\n",
        "Ejemplo: Sea la lista [5, 20, 15, 20, 25, 50, 20] el programa imprime:\n",
        "Lista1= [25,35,35,45,75,70]\n",
        "Lista2=[0,0,5,5,25,0]\n",
        "Lista3=[10,40,30,40,50,100,40]\n",
        "Lista4=[25,400,225,400,625,2500,400]"
      ],
      "metadata": {
        "id": "ctSnvNFF8A2J"
      }
    },
    {
      "cell_type": "code",
      "source": [
        "lista = [5, 20, 15, 20, 25, 50, 20]\n",
        "\n",
        "# Lista 1: Suma\n",
        "lista1 = [x + lista[0] for x in lista]\n",
        "# Lista 2: Resta (con 0 si es negativo)\n",
        "lista2 = [max(0, x - lista[0]) for x in lista]\n",
        "# Lista 3: Multiplicación\n",
        "lista3 = [x * 2 for x in lista]\n",
        "# Lista 4: Cuadrado\n",
        "lista4 = [x ** 2 for x in lista]\n",
        "\n",
        "print(\"Lista1:\", lista1)\n",
        "print(\"Lista2:\", lista2)\n",
        "print(\"Lista3:\", lista3)\n",
        "print(\"Lista4:\", lista4)\n"
      ],
      "metadata": {
        "colab": {
          "base_uri": "https://localhost:8080/"
        },
        "id": "2w6RW5MO8KMT",
        "outputId": "fd0722fb-e0d3-41e0-9cce-8259cf8e0873"
      },
      "execution_count": null,
      "outputs": [
        {
          "output_type": "stream",
          "name": "stdout",
          "text": [
            "Lista1: [10, 25, 20, 25, 30, 55, 25]\n",
            "Lista2: [0, 15, 10, 15, 20, 45, 15]\n",
            "Lista3: [10, 40, 30, 40, 50, 100, 40]\n",
            "Lista4: [25, 400, 225, 400, 625, 2500, 400]\n"
          ]
        }
      ]
    },
    {
      "cell_type": "markdown",
      "source": [
        "##Ejercicio 17\n",
        "Escriba un programa que separe los elementos de una lista en el n-ésimo término.\n",
        "Ejemplo: sea la lista ['a', 'b', 'c', 'd', 'e', 'f', 'g', 'h', 'i', 'j', 'k', 'l', 'm', 'n'] y si n=5 la nueva lista será [['a', 'd', 'g', 'j', 'm'], ['b', 'e', 'h', 'k', 'n'], ['c', 'f', 'i', 'l']]"
      ],
      "metadata": {
        "id": "Qn-Wgses8g31"
      }
    },
    {
      "cell_type": "code",
      "source": [
        "lista = ['a', 'b', 'c', 'd', 'e', 'f', 'g', 'h', 'i', 'j', 'k', 'l', 'm', 'n']\n",
        "n = 5\n",
        "resultado = [[] for _ in range(n)]\n",
        "for i, elemento in enumerate(lista):\n",
        "    resultado[i % n].append(elemento)\n",
        "print(resultado)\n"
      ],
      "metadata": {
        "colab": {
          "base_uri": "https://localhost:8080/"
        },
        "id": "QO59RtoX8sdo",
        "outputId": "5270cbdd-84c2-40a8-b0f3-fefd022c4eaa"
      },
      "execution_count": null,
      "outputs": [
        {
          "output_type": "stream",
          "name": "stdout",
          "text": [
            "[['a', 'f', 'k'], ['b', 'g', 'l'], ['c', 'h', 'm'], ['d', 'i', 'n'], ['e', 'j']]\n"
          ]
        }
      ]
    },
    {
      "cell_type": "markdown",
      "source": [
        "##Ejercicio 18\n",
        "Escriba un programa que mueva todos los ceros al final de una lista. Ejemplo, si se tiene la lista [3, 4, 0, 0, 0, 6, 2, 0, 6, 7, 6, 0, 0, 0, 9, 10, 7, 4, 4, 5, 3, 0, 0, 2, 9, 7, 1] el resultado esperado es: [3, 4, 6, 2, 6, 7, 6, 9, 10, 7, 4, 4, 5, 3, 2, 9, 7, 1, 0, 0, 0, 0, 0, 0, 0, 0, 0]"
      ],
      "metadata": {
        "id": "E9yJTr5o885A"
      }
    },
    {
      "cell_type": "code",
      "source": [
        "lista = [3, 4, 0, 0, 0, 6, 2, 0, 6, 7, 6, 0, 0, 0, 9, 10, 7, 4, 4, 5, 3, 0, 0, 2, 9, 7, 1]\n",
        "resultado = [x for x in lista if x != 0] + [0] * lista.count(0)\n",
        "print(resultado)\n"
      ],
      "metadata": {
        "colab": {
          "base_uri": "https://localhost:8080/"
        },
        "id": "i10xAfNr8fT4",
        "outputId": "474138ef-ad87-4639-8e70-2c30de8d77c8"
      },
      "execution_count": null,
      "outputs": [
        {
          "output_type": "stream",
          "name": "stdout",
          "text": [
            "[3, 4, 6, 2, 6, 7, 6, 9, 10, 7, 4, 4, 5, 3, 2, 9, 7, 1, 0, 0, 0, 0, 0, 0, 0, 0, 0]\n"
          ]
        }
      ]
    },
    {
      "cell_type": "markdown",
      "source": [
        "#Ejercicios diccionarios"
      ],
      "metadata": {
        "id": "uzXruyvhX7Gx"
      }
    },
    {
      "cell_type": "markdown",
      "source": [
        "##Ejercicio 1\n",
        "Desarrolle un programa que genere un diccionario de dos listas. Ejemplo. Sean las listas [\"Black\", \"Red\", \"Maroon\", \"Yellow\"], [\"#000000\", \"#FF0000\", \"#800000\",\"#FFFF00\"], se espera: [{'color_name': 'Black', 'color_code': '#000000'},{'color_name': 'Red', 'color_code': '#FF0000'}, {'color_name': 'Maroon', 'color_code': '#800000'}, {'color_name': 'Yellow', 'color_code': '#FFFF00'}]"
      ],
      "metadata": {
        "id": "0VziQWHfYAIP"
      }
    },
    {
      "cell_type": "code",
      "source": [
        "colors = [\"Black\", \"Red\", \"Maroon\", \"Yellow\"]\n",
        "codes = [\"#000000\", \"#FF0000\", \"#800000\", \"#FFFF00\"]\n",
        "\n",
        "color_dict = [{'color_name': name, 'color_code': code} for name, code in zip(colors, codes)]\n",
        "print(color_dict)\n"
      ],
      "metadata": {
        "colab": {
          "base_uri": "https://localhost:8080/"
        },
        "id": "xhNBilZFYGjR",
        "outputId": "48af866b-a03c-4738-c4e9-2065d9fd1823"
      },
      "execution_count": 1,
      "outputs": [
        {
          "output_type": "stream",
          "name": "stdout",
          "text": [
            "[{'color_name': 'Black', 'color_code': '#000000'}, {'color_name': 'Red', 'color_code': '#FF0000'}, {'color_name': 'Maroon', 'color_code': '#800000'}, {'color_name': 'Yellow', 'color_code': '#FFFF00'}]\n"
          ]
        }
      ]
    },
    {
      "cell_type": "markdown",
      "source": [
        "##Ejercicio 2\n",
        "Desarrolle un programa que genera el siguiente diccionario, en donde el valor es el cuadrado de la clave de 15 números: {1: 1, 2: 4, 3: 9, 4: 16, 5: 25, 6: 36, 7: 49, 8: 64, 9: 81, 10: 100, 11: 121, 12: 144, 13: 169, 14: 196, 15: 225}"
      ],
      "metadata": {
        "id": "BtQfTt2XZoTv"
      }
    },
    {
      "cell_type": "code",
      "source": [
        "squares_dict = {i: i**2 for i in range(1, 16)}\n",
        "print(squares_dict)\n"
      ],
      "metadata": {
        "colab": {
          "base_uri": "https://localhost:8080/"
        },
        "id": "QV5bFVbFZvmo",
        "outputId": "04dfb431-44bc-4d96-9cde-544420404c14"
      },
      "execution_count": 2,
      "outputs": [
        {
          "output_type": "stream",
          "name": "stdout",
          "text": [
            "{1: 1, 2: 4, 3: 9, 4: 16, 5: 25, 6: 36, 7: 49, 8: 64, 9: 81, 10: 100, 11: 121, 12: 144, 13: 169, 14: 196, 15: 225}\n"
          ]
        }
      ]
    },
    {
      "cell_type": "markdown",
      "source": [
        "##Ejercicio 3\n",
        "Sean dos diccionarios\n",
        "d1 = {'a': 100, 'b': 200, 'c':300}\n",
        "d2 = {'a': 300, 'b': 200, 'd':400} se desea que se genere un tercero tal que de como resultado ({'a': 400, 'b': 400, 'd': 400, 'c': 300})"
      ],
      "metadata": {
        "id": "6_TeN_0YZ2iA"
      }
    },
    {
      "cell_type": "code",
      "source": [
        "d1 = {'a': 100, 'b': 200, 'c': 300}\n",
        "d2 = {'a': 300, 'b': 200, 'd': 400}\n",
        "\n",
        "combined_dict = {}\n",
        "\n",
        "for key in set(d1) | set(d2):\n",
        "    combined_dict[key] = d1.get(key, 0) + d2.get(key, 0)\n",
        "\n",
        "print(combined_dict)\n"
      ],
      "metadata": {
        "colab": {
          "base_uri": "https://localhost:8080/"
        },
        "id": "bha-SpqqZ_YP",
        "outputId": "18cddaef-245d-45ae-e8bc-81c4975e1a74"
      },
      "execution_count": 3,
      "outputs": [
        {
          "output_type": "stream",
          "name": "stdout",
          "text": [
            "{'d': 400, 'b': 400, 'c': 300, 'a': 400}\n"
          ]
        }
      ]
    },
    {
      "cell_type": "markdown",
      "source": [
        "##Ejercicio 4\n",
        "Escriba un programa que imprima todos los valores únicos de un diccionario, tal que [{\"V\":\"S001\"}, {\"V\": \"S002\"}, {\"VI\": \"S001\"}, {\"VI\": \"S005\"}, {\"VII\":\"S005\"}, {\"V\":\"S009\"}, \"VIII\":\"S007\"}] imprima {'S005', 'S002', 'S007', 'S001', 'S009'}"
      ],
      "metadata": {
        "id": "KAkg-QrSaJZa"
      }
    },
    {
      "cell_type": "code",
      "source": [
        "data = [{\"V\":\"S001\"}, {\"V\": \"S002\"}, {\"VI\": \"S001\"}, {\"VI\": \"S005\"}, {\"VII\":\"S005\"},\n",
        "        {\"V\":\"S009\"},{\"VIII\":\"S007\"}]\n",
        "\n",
        "unique_values = {v for d in data for v in d.values()}\n",
        "print(unique_values)\n"
      ],
      "metadata": {
        "colab": {
          "base_uri": "https://localhost:8080/"
        },
        "id": "80HcGePbaWmG",
        "outputId": "535adf09-1f5f-4164-c9ba-df7ba5f58657"
      },
      "execution_count": 4,
      "outputs": [
        {
          "output_type": "stream",
          "name": "stdout",
          "text": [
            "{'S001', 'S002', 'S009', 'S007', 'S005'}\n"
          ]
        }
      ]
    },
    {
      "cell_type": "markdown",
      "source": [
        "##Ejercicio 5\n",
        "Desarrollar un programa que genere un diccionario de una palabra y cuente cuántas veces se repita la letra en la palabra. Ejemplo: La palabra “Anita” genera el diccionario {“A”: 2, ”n”:1, ”i”:1, ”t”:1}"
      ],
      "metadata": {
        "id": "QkRvHd0qadWV"
      }
    },
    {
      "cell_type": "code",
      "source": [
        "word = \"Anita\"\n",
        "letter_count = {}\n",
        "\n",
        "for letter in word:\n",
        "    letter_count[letter] = letter_count.get(letter, 0) + 1\n",
        "\n",
        "print(letter_count)\n"
      ],
      "metadata": {
        "colab": {
          "base_uri": "https://localhost:8080/"
        },
        "id": "sklDUVDDam_u",
        "outputId": "1895d6f1-cfe2-41bf-cb00-e4008924fe92"
      },
      "execution_count": 5,
      "outputs": [
        {
          "output_type": "stream",
          "name": "stdout",
          "text": [
            "{'A': 1, 'n': 1, 'i': 1, 't': 1, 'a': 1}\n"
          ]
        }
      ]
    },
    {
      "cell_type": "markdown",
      "source": [
        "##Ejercicio 6\n",
        "Desarrolle un programa que emule una caja registradora de 15 productos con sus respectivos precios. El programa debe generar una factura de compra y al final indicar al dueño del establecimiento:\n",
        "\n",
        "a. Cuántos productos se vendieron durante el día\n",
        "\n",
        "b. Cuál fue la ganancia total\n",
        "\n",
        "c. Cuál fue la mayor compra\n",
        "\n",
        "d. Cuántos clientes se atendieron en el día.\n",
        "\n",
        "e. El programa sólo puede realizarse con diccionarios."
      ],
      "metadata": {
        "id": "fxi_5ZkCarhX"
      }
    },
    {
      "cell_type": "code",
      "source": [
        "# Datos de los productos y precios\n",
        "products = {\n",
        "    \"Producto1\": 10.0,\n",
        "    \"Producto2\": 15.5,\n",
        "    \"Producto3\": 7.25,\n",
        "    \"Producto4\": 12.99,\n",
        "    \"Producto5\": 20.0,\n",
        "    \"Producto6\": 5.0,\n",
        "    \"Producto7\": 30.0,\n",
        "    \"Producto8\": 25.75,\n",
        "    \"Producto9\": 8.5,\n",
        "    \"Producto10\": 13.5,\n",
        "    \"Producto11\": 22.0,\n",
        "    \"Producto12\": 18.0,\n",
        "    \"Producto13\": 17.25,\n",
        "    \"Producto14\": 11.5,\n",
        "    \"Producto15\": 9.99\n",
        "}\n",
        "\n",
        "sales_data = []\n",
        "total_sales = 0.0\n",
        "num_customers = 0\n",
        "\n",
        "# Simulando la venta de productos\n",
        "while True:\n",
        "    num_customers += 1\n",
        "    sale = {}\n",
        "    total = 0.0\n",
        "\n",
        "    print(f\"\\nCliente {num_customers}:\")\n",
        "    for product, price in products.items():\n",
        "        quantity = int(input(f\"Ingrese la cantidad de {product} vendido (0 para no vender): \"))\n",
        "        if quantity > 0:\n",
        "            sale[product] = price * quantity\n",
        "            total += sale[product]\n",
        "\n",
        "    if total > 0:\n",
        "        sales_data.append(sale)\n",
        "        total_sales += total\n",
        "        print(f\"Total de la venta: {total:.2f}\")\n",
        "\n",
        "    cont = input(\"¿Desea registrar otro cliente? (s/n): \")\n",
        "    if cont.lower() != 's':\n",
        "        break\n",
        "\n",
        "# Resumen de ventas\n",
        "total_products_sold = sum(len(sale) for sale in sales_data)\n",
        "max_sale = max(sum(sale.values()) for sale in sales_data) if sales_data else 0\n",
        "\n",
        "print(f\"\\nResumen de ventas:\")\n",
        "print(f\"Productos vendidos: {total_products_sold}\")\n",
        "print(f\"Ganancia total: {total_sales:.2f}\")\n",
        "print(f\"Mayor compra: {max_sale:.2f}\")\n",
        "print(f\"Clientes atendidos: {num_customers}\")\n",
        "\n"
      ],
      "metadata": {
        "colab": {
          "base_uri": "https://localhost:8080/"
        },
        "id": "h-Hxlcqca85Y",
        "outputId": "b61df447-22c8-4084-976c-7805fb03f834"
      },
      "execution_count": 10,
      "outputs": [
        {
          "output_type": "stream",
          "name": "stdout",
          "text": [
            "\n",
            "Cliente 1:\n",
            "Ingrese la cantidad de Producto1 vendido (0 para no vender): 2\n",
            "Ingrese la cantidad de Producto2 vendido (0 para no vender): 0\n",
            "Ingrese la cantidad de Producto3 vendido (0 para no vender): 8\n",
            "Ingrese la cantidad de Producto4 vendido (0 para no vender): 15\n",
            "Ingrese la cantidad de Producto5 vendido (0 para no vender): 6\n",
            "Ingrese la cantidad de Producto6 vendido (0 para no vender): 5\n",
            "Ingrese la cantidad de Producto7 vendido (0 para no vender): 3\n",
            "Ingrese la cantidad de Producto8 vendido (0 para no vender): 2\n",
            "Ingrese la cantidad de Producto9 vendido (0 para no vender): 0\n",
            "Ingrese la cantidad de Producto10 vendido (0 para no vender): 1\n",
            "Ingrese la cantidad de Producto11 vendido (0 para no vender): 9\n",
            "Ingrese la cantidad de Producto12 vendido (0 para no vender): 0\n",
            "Ingrese la cantidad de Producto13 vendido (0 para no vender): 9\n",
            "Ingrese la cantidad de Producto14 vendido (0 para no vender): 4\n",
            "Ingrese la cantidad de Producto15 vendido (0 para no vender): 0\n",
            "Total de la venta: 972.10\n",
            "¿Desea registrar otro cliente? (s/n): n\n",
            "\n",
            "Resumen de ventas:\n",
            "Productos vendidos: 11\n",
            "Ganancia total: 972.10\n",
            "Mayor compra: 972.10\n",
            "Clientes atendidos: 1\n"
          ]
        }
      ]
    }
  ]
}